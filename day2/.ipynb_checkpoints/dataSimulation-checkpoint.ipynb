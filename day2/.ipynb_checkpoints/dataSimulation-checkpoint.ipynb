{
 "cells": [
  {
   "cell_type": "markdown",
   "metadata": {
    "slideshow": {
     "slide_type": "slide"
    }
   },
   "source": [
    "## Simulation of data using Julia\n",
    "\n",
    "### Rohan L. Fernando, Chris Stricker\n",
    "\n"
   ]
  },
  {
   "cell_type": "code",
   "execution_count": 1,
   "metadata": {
    "slideshow": {
     "slide_type": "fragment"
    }
   },
   "outputs": [],
   "source": [
    "using Distributions, Random"
   ]
  },
  {
   "cell_type": "markdown",
   "metadata": {
    "slideshow": {
     "slide_type": "slide"
    }
   },
   "source": [
    "## Simulate matrix of ``genotype\" covariates"
   ]
  },
  {
   "cell_type": "code",
   "execution_count": 2,
   "metadata": {
    "scrolled": true,
    "slideshow": {
     "slide_type": "fragment"
    }
   },
   "outputs": [
    {
     "data": {
      "text/plain": [
       "10×5 Array{Int64,2}:\n",
       " 0  2  2  1  1\n",
       " 1  1  2  0  0\n",
       " 2  1  1  1  0\n",
       " 2  1  2  1  1\n",
       " 0  2  2  1  1\n",
       " 1  0  1  2  1\n",
       " 0  0  1  1  2\n",
       " 2  1  0  1  2\n",
       " 1  1  1  2  1\n",
       " 1  2  2  0  1"
      ]
     },
     "execution_count": 2,
     "metadata": {},
     "output_type": "execute_result"
    }
   ],
   "source": [
    "Random, see\n",
    "nRows = 10\n",
    "nCols = 5\n",
    "X = rand(Binomial(2,0.5),nRows,nCols)"
   ]
  },
  {
   "cell_type": "markdown",
   "metadata": {
    "slideshow": {
     "slide_type": "slide"
    }
   },
   "source": [
    "## Add a column of ones for intercept"
   ]
  },
  {
   "cell_type": "code",
   "execution_count": 3,
   "metadata": {
    "scrolled": false,
    "slideshow": {
     "slide_type": "-"
    }
   },
   "outputs": [
    {
     "data": {
      "text/plain": [
       "10×6 Array{Float64,2}:\n",
       " 1.0  0.0  2.0  2.0  1.0  1.0\n",
       " 1.0  1.0  1.0  2.0  0.0  0.0\n",
       " 1.0  2.0  1.0  1.0  1.0  0.0\n",
       " 1.0  2.0  1.0  2.0  1.0  1.0\n",
       " 1.0  0.0  2.0  2.0  1.0  1.0\n",
       " 1.0  1.0  0.0  1.0  2.0  1.0\n",
       " 1.0  0.0  0.0  1.0  1.0  2.0\n",
       " 1.0  2.0  1.0  0.0  1.0  2.0\n",
       " 1.0  1.0  1.0  1.0  2.0  1.0\n",
       " 1.0  1.0  2.0  2.0  0.0  1.0"
      ]
     },
     "execution_count": 3,
     "metadata": {},
     "output_type": "execute_result"
    }
   ],
   "source": [
    "X = [ones(nRows,1) X]"
   ]
  },
  {
   "cell_type": "markdown",
   "metadata": {
    "slideshow": {
     "slide_type": "slide"
    }
   },
   "source": [
    "## Simulate effects from normal distribution"
   ]
  },
  {
   "cell_type": "code",
   "execution_count": 4,
   "metadata": {},
   "outputs": [
    {
     "data": {
      "text/plain": [
       "(10, 6)"
      ]
     },
     "execution_count": 4,
     "metadata": {},
     "output_type": "execute_result"
    }
   ],
   "source": [
    "size(X)"
   ]
  },
  {
   "cell_type": "code",
   "execution_count": 5,
   "metadata": {
    "scrolled": false,
    "slideshow": {
     "slide_type": "-"
    }
   },
   "outputs": [
    {
     "data": {
      "text/plain": [
       "6-element Array{Float64,1}:\n",
       "  0.18779979880927267\n",
       " -0.6868459901647668 \n",
       " -0.9440981701981219 \n",
       " -0.41836420017087544\n",
       " -0.10574289078059725\n",
       "  0.4769961914942983 "
      ]
     },
     "execution_count": 5,
     "metadata": {},
     "output_type": "execute_result"
    }
   ],
   "source": [
    "nRowsX, nColsX = size(X)\n",
    "mean = 0.0\n",
    "std  = 0.5\n",
    "b = rand(Normal(mean,std),nColsX)"
   ]
  },
  {
   "cell_type": "markdown",
   "metadata": {
    "slideshow": {
     "slide_type": "notes"
    }
   },
   "source": [
    "## Simulate phenotypic values"
   ]
  },
  {
   "cell_type": "code",
   "execution_count": 6,
   "metadata": {},
   "outputs": [
    {
     "data": {
      "text/plain": [
       "10-element Array{Float64,1}:\n",
       " -1.21272904516159    \n",
       " -1.1036229279621732  \n",
       " -2.467099318111936   \n",
       " -2.114866596632757   \n",
       " -2.0364646180399477  \n",
       " -0.19007303268258696 \n",
       "  2.0004320556868405  \n",
       "  0.055384297830102014\n",
       " -1.1902754896507308  \n",
       " -3.3707538989212478  "
      ]
     },
     "execution_count": 6,
     "metadata": {},
     "output_type": "execute_result"
    }
   ],
   "source": [
    "resStd = 1.0\n",
    "y = X*b + rand(Normal(0,resStd),nRowsX)"
   ]
  },
  {
   "cell_type": "markdown",
   "metadata": {
    "slideshow": {
     "slide_type": "slide"
    }
   },
   "source": [
    "## Function to simulate data\n"
   ]
  },
  {
   "cell_type": "code",
   "execution_count": 7,
   "metadata": {},
   "outputs": [
    {
     "data": {
      "text/plain": [
       "simDat (generic function with 1 method)"
      ]
     },
     "execution_count": 7,
     "metadata": {},
     "output_type": "execute_result"
    }
   ],
   "source": [
    "function simDat(nObs,nLoci,bMean,bStd,resStd)\n",
    "    X = [ones(nObs,1) rand(Binomial(2,0.5),nObs,nLoci)]\n",
    "    b = rand(Normal(bMean,bStd),size(X,2))\n",
    "    y = X*b + rand(Normal(0.0, resStd),nObs)\n",
    "    return (y,X,b)\n",
    "end"
   ]
  },
  {
   "cell_type": "markdown",
   "metadata": {
    "slideshow": {
     "slide_type": "subslide"
    }
   },
   "source": [
    "## Use of function simDat to simulate data"
   ]
  },
  {
   "cell_type": "code",
   "execution_count": 8,
   "metadata": {
    "scrolled": false
   },
   "outputs": [
    {
     "data": {
      "text/plain": [
       "([0.827257, 1.6506, 1.81786, 0.182255, -0.427725], [1.0 2.0 … 0.0 1.0; 1.0 1.0 … 1.0 2.0; … ; 1.0 2.0 … 1.0 1.0; 1.0 2.0 … 1.0 0.0], [0.165753, -0.276984, 0.452845, -0.255049, -0.274975, 0.568552])"
      ]
     },
     "execution_count": 8,
     "metadata": {},
     "output_type": "execute_result"
    }
   ],
   "source": [
    "nObs     = 10\n",
    "nLoci    = 5\n",
    "bMean    = 0.0\n",
    "bStd     = 0.5\n",
    "resStd   = 1.0\n",
    "y, X, b = simDat(nLoci,nLoci,bMean,bStd,resStd)"
   ]
  },
  {
   "cell_type": "code",
   "execution_count": 9,
   "metadata": {
    "scrolled": true
   },
   "outputs": [
    {
     "data": {
      "text/plain": [
       "5-element Array{Float64,1}:\n",
       "  0.827256996146554  \n",
       "  1.650602665535036  \n",
       "  1.8178584638648059 \n",
       "  0.18225479152143859\n",
       " -0.42772529989138497"
      ]
     },
     "execution_count": 9,
     "metadata": {},
     "output_type": "execute_result"
    }
   ],
   "source": [
    "y"
   ]
  },
  {
   "cell_type": "code",
   "execution_count": 10,
   "metadata": {},
   "outputs": [
    {
     "data": {
      "text/plain": [
       "5×6 Array{Float64,2}:\n",
       " 1.0  2.0  2.0  2.0  0.0  1.0\n",
       " 1.0  1.0  2.0  1.0  1.0  2.0\n",
       " 1.0  0.0  2.0  0.0  1.0  1.0\n",
       " 1.0  2.0  2.0  1.0  1.0  1.0\n",
       " 1.0  2.0  1.0  0.0  1.0  0.0"
      ]
     },
     "execution_count": 10,
     "metadata": {},
     "output_type": "execute_result"
    }
   ],
   "source": [
    "X"
   ]
  },
  {
   "cell_type": "code",
   "execution_count": 11,
   "metadata": {},
   "outputs": [
    {
     "data": {
      "text/plain": [
       "6-element Array{Float64,1}:\n",
       "  0.165753262259168  \n",
       " -0.2769844725957155 \n",
       "  0.4528450237296258 \n",
       " -0.25504863825464624\n",
       " -0.27497543241608347\n",
       "  0.5685519148524841 "
      ]
     },
     "execution_count": 11,
     "metadata": {},
     "output_type": "execute_result"
    }
   ],
   "source": [
    "b"
   ]
  },
  {
   "cell_type": "markdown",
   "metadata": {
    "slideshow": {
     "slide_type": "slide"
    }
   },
   "source": [
    "## XSim: Genome sampler\n",
    "\n",
    "* Simulate SNPs on chromosomes\n",
    "* Random mating in finite population to generate LD\n",
    "* Use real genotypes (LD)\n",
    "* Efficient algorithm for sampling sequence data\n"
   ]
  },
  {
   "cell_type": "markdown",
   "metadata": {
    "slideshow": {
     "slide_type": "subslide"
    }
   },
   "source": [
    "## Initialize sampler"
   ]
  },
  {
   "cell_type": "code",
   "execution_count": 12,
   "metadata": {
    "scrolled": true
   },
   "outputs": [],
   "source": [
    "using XSim\n",
    "chrLength = 1.0\n",
    "numChr    = 1\n",
    "numLoci   = 2000\n",
    "mutRate   = 0.0\n",
    "locusInt  = chrLength/numLoci\n",
    "mapPos   = collect(0:locusInt:(chrLength-0.0001))\n",
    "geneFreq = fill(0.5,numLoci)\n",
    "XSim.build_genome(numChr,chrLength,numLoci,geneFreq,mapPos,mutRate) "
   ]
  },
  {
   "cell_type": "markdown",
   "metadata": {
    "slideshow": {
     "slide_type": "subslide"
    }
   },
   "source": [
    "## Simulate random mating in finite population"
   ]
  },
  {
   "cell_type": "markdown",
   "metadata": {},
   "source": [
    "### Sample Founders"
   ]
  },
  {
   "cell_type": "code",
   "execution_count": 13,
   "metadata": {},
   "outputs": [
    {
     "name": "stdout",
     "output_type": "stream",
     "text": [
      "Sampling 500 animals into base population.\n",
      "Sampling 500 animals into base population.\n"
     ]
    }
   ],
   "source": [
    "popSizeFounder = 500\n",
    "sires = sampleFounders(popSizeFounder)\n",
    "dams  = sampleFounders(popSizeFounder);"
   ]
  },
  {
   "cell_type": "markdown",
   "metadata": {},
   "source": [
    "### Random Mating "
   ]
  },
  {
   "cell_type": "code",
   "execution_count": 14,
   "metadata": {},
   "outputs": [
    {
     "name": "stdout",
     "output_type": "stream",
     "text": [
      "Generation     2: sampling   250 males and   250 females\n",
      "Generation     3: sampling   250 males and   250 females\n",
      "Generation     4: sampling   250 males and   250 females\n",
      "Generation     5: sampling   250 males and   250 females\n",
      "Generation     6: sampling   250 males and   250 females\n",
      "Generation     7: sampling   250 males and   250 females\n",
      "Generation     8: sampling   250 males and   250 females\n",
      "Generation     9: sampling   250 males and   250 females\n",
      "Generation    10: sampling   250 males and   250 females\n",
      "Generation    11: sampling   250 males and   250 females\n",
      "Generation    12: sampling   250 males and   250 females\n",
      "Generation    13: sampling   250 males and   250 females\n",
      "Generation    14: sampling   250 males and   250 females\n",
      "Generation    15: sampling   250 males and   250 females\n",
      "Generation    16: sampling   250 males and   250 females\n",
      "Generation    17: sampling   250 males and   250 females\n",
      "Generation    18: sampling   250 males and   250 females\n",
      "Generation    19: sampling   250 males and   250 females\n",
      "Generation    20: sampling   250 males and   250 females\n",
      "Generation    21: sampling   250 males and   250 females\n"
     ]
    }
   ],
   "source": [
    "ngen,popSize = 20,500\n",
    "sires1,dams1,gen1 = sampleRan(popSize, ngen, sires, dams);"
   ]
  },
  {
   "cell_type": "markdown",
   "metadata": {
    "slideshow": {
     "slide_type": "subslide"
    }
   },
   "source": [
    "## Get genotypes"
   ]
  },
  {
   "cell_type": "code",
   "execution_count": 15,
   "metadata": {
    "slideshow": {
     "slide_type": "fragment"
    }
   },
   "outputs": [
    {
     "data": {
      "text/plain": [
       "500×2000 Array{Int64,2}:\n",
       " 1  0  1  2  0  1  1  2  0  1  0  1  1  …  1  1  1  0  0  1  0  2  2  2  1  2\n",
       " 0  0  1  2  0  2  1  1  2  2  2  1  0     0  0  2  1  1  1  1  1  2  2  1  1\n",
       " 1  1  1  0  1  1  2  0  1  1  1  2  2     0  1  1  1  0  1  1  1  0  1  1  1\n",
       " 0  2  1  0  0  0  2  1  1  1  1  1  0     0  1  0  0  2  0  1  1  0  0  1  2\n",
       " 1  0  1  0  1  1  1  1  0  0  0  2  0     2  2  1  1  1  2  1  0  0  1  0  1\n",
       " 0  2  1  0  1  0  1  2  1  1  2  1  1  …  0  2  0  1  1  2  1  2  0  1  1  2\n",
       " 2  0  0  0  1  1  1  2  0  2  1  0  2     1  1  0  0  0  1  2  1  1  1  1  0\n",
       " 0  2  1  1  1  0  1  1  2  2  1  1  0     0  2  0  1  0  2  1  1  0  1  0  2\n",
       " 1  2  1  1  2  1  0  2  1  1  1  0  1     1  1  1  1  0  2  1  1  1  1  0  0\n",
       " 0  1  1  2  1  1  0  2  2  1  1  1  0     1  2  1  2  2  2  1  0  0  1  1  1\n",
       " 1  2  2  1  1  1  1  1  2  2  1  2  0  …  0  1  1  1  1  0  0  0  1  1  0  1\n",
       " 1  1  2  0  0  1  1  2  1  0  1  2  1     1  1  2  0  1  0  1  1  2  0  1  1\n",
       " 0  1  2  0  1  0  0  0  0  0  1  1  1     0  0  1  1  1  1  1  1  0  1  0  1\n",
       " ⋮              ⋮              ⋮        ⋱        ⋮              ⋮            \n",
       " 0  1  0  1  1  1  1  2  2  1  2  0  0     2  2  2  1  0  0  0  1  2  2  1  2\n",
       " 0  0  1  2  1  2  1  1  1  2  1  0  1     0  0  1  1  0  0  0  1  0  0  1  1\n",
       " 1  0  0  2  1  1  2  2  1  2  2  0  2  …  1  1  0  0  2  0  2  0  2  0  1  1\n",
       " 2  2  2  2  1  2  2  0  2  1  0  1  1     1  1  2  0  2  1  1  2  1  0  1  1\n",
       " 1  0  2  2  1  2  1  1  2  2  1  2  1     0  1  1  0  1  0  0  0  1  2  1  1\n",
       " 1  2  2  1  2  0  2  1  2  1  2  0  1     1  1  2  2  0  0  0  0  2  2  2  1\n",
       " 2  1  1  1  1  0  0  1  1  1  0  2  0     0  2  1  0  1  0  0  1  1  1  2  2\n",
       " 0  2  1  0  1  2  0  0  1  1  1  1  2  …  1  0  0  0  2  1  0  2  0  1  1  1\n",
       " 2  2  0  2  0  2  1  2  2  0  1  1  2     0  1  0  0  2  1  0  1  1  1  2  2\n",
       " 1  2  1  0  1  1  1  2  0  0  2  0  2     0  1  1  0  0  1  1  1  0  1  0  1\n",
       " 1  1  1  1  1  1  1  1  1  2  1  0  1     0  1  0  1  1  0  0  1  1  1  2  2\n",
       " 1  1  2  1  1  1  1  2  2  2  0  1  2     0  1  1  0  1  2  2  2  0  0  0  1"
      ]
     },
     "execution_count": 15,
     "metadata": {},
     "output_type": "execute_result"
    }
   ],
   "source": [
    "animals = concatCohorts(sires1,dams1)\n",
    "M = getOurGenotypes(animals)"
   ]
  },
  {
   "cell_type": "markdown",
   "metadata": {
    "slideshow": {
     "slide_type": "subslide"
    }
   },
   "source": [
    "## Randomly sample QTL positions "
   ]
  },
  {
   "cell_type": "code",
   "execution_count": 31,
   "metadata": {},
   "outputs": [
    {
     "data": {
      "text/plain": [
       "2000-element Array{Bool,1}:\n",
       " false\n",
       " false\n",
       " false\n",
       " false\n",
       " false\n",
       " false\n",
       " false\n",
       " false\n",
       " false\n",
       " false\n",
       " false\n",
       " false\n",
       " false\n",
       "     ⋮\n",
       " false\n",
       " false\n",
       " false\n",
       " false\n",
       " false\n",
       " false\n",
       " false\n",
       " false\n",
       " false\n",
       " false\n",
       " false\n",
       " false"
      ]
     },
     "execution_count": 31,
     "metadata": {},
     "output_type": "execute_result"
    }
   ],
   "source": [
    "nQTL   = 50\n",
    "selQTL = fill(false,numLoci)"
   ]
  },
  {
   "cell_type": "code",
   "execution_count": 32,
   "metadata": {},
   "outputs": [
    {
     "data": {
      "text/plain": [
       "50-element view(::Array{Bool,1}, [282, 259, 1579, 779, 473, 1964, 1297, 203, 774, 1047  …  1626, 1715, 1873, 1997, 1304, 946, 1573, 518, 162, 749]) with eltype Bool:\n",
       " true\n",
       " true\n",
       " true\n",
       " true\n",
       " true\n",
       " true\n",
       " true\n",
       " true\n",
       " true\n",
       " true\n",
       " true\n",
       " true\n",
       " true\n",
       "    ⋮\n",
       " true\n",
       " true\n",
       " true\n",
       " true\n",
       " true\n",
       " true\n",
       " true\n",
       " true\n",
       " true\n",
       " true\n",
       " true\n",
       " true"
      ]
     },
     "execution_count": 32,
     "metadata": {},
     "output_type": "execute_result"
    }
   ],
   "source": [
    "#selQTL = rand(numLoci).>0.995  # you want 0.5% to be QTL, i.e. about 100 QTL\n",
    "selQTL[sample(1:numLoci, nQTL, replace=false)] .= true"
   ]
  },
  {
   "cell_type": "code",
   "execution_count": 41,
   "metadata": {},
   "outputs": [
    {
     "data": {
      "text/plain": [
       "2000-element BitArray{1}:\n",
       "  true\n",
       "  true\n",
       "  true\n",
       "  true\n",
       "  true\n",
       "  true\n",
       "  true\n",
       "  true\n",
       "  true\n",
       "  true\n",
       "  true\n",
       "  true\n",
       "  true\n",
       "     ⋮\n",
       "  true\n",
       "  true\n",
       "  true\n",
       "  true\n",
       "  true\n",
       "  true\n",
       "  true\n",
       "  true\n",
       " false\n",
       "  true\n",
       "  true\n",
       "  true"
      ]
     },
     "execution_count": 41,
     "metadata": {},
     "output_type": "execute_result"
    }
   ],
   "source": [
    "#selMrk = selQTL.==false\n",
    "selMrk =.!selQTL"
   ]
  },
  {
   "cell_type": "markdown",
   "metadata": {
    "slideshow": {
     "slide_type": "subslide"
    }
   },
   "source": [
    "## QTL and marker matrices"
   ]
  },
  {
   "cell_type": "code",
   "execution_count": 42,
   "metadata": {},
   "outputs": [
    {
     "data": {
      "text/plain": [
       "500×50 Array{Int64,2}:\n",
       " 2  1  0  1  0  1  1  1  0  1  2  1  1  …  1  1  0  1  0  0  1  1  0  2  1  2\n",
       " 1  0  0  1  1  1  0  1  2  2  0  2  1     1  2  2  1  1  2  1  1  2  2  2  2\n",
       " 0  1  1  2  0  1  0  1  2  2  1  1  0     1  0  1  1  0  1  1  0  1  1  1  0\n",
       " 1  1  0  1  2  2  1  1  1  2  2  2  1     0  1  1  0  2  2  1  2  2  0  0  0\n",
       " 1  1  1  1  2  2  2  0  2  0  1  1  0     0  1  1  1  2  1  1  2  1  2  1  0\n",
       " 1  0  0  2  1  0  2  0  2  2  1  2  1  …  1  1  0  2  1  2  0  1  2  1  1  0\n",
       " 0  1  0  1  1  0  0  0  1  1  2  2  1     1  1  1  2  1  1  0  0  2  1  1  1\n",
       " 2  0  1  1  1  1  1  0  2  2  1  1  0     1  1  0  1  0  2  1  1  2  2  1  0\n",
       " 2  1  1  1  1  1  2  2  0  1  0  0  0     1  0  1  1  1  2  2  2  0  1  0  1\n",
       " 1  0  1  1  1  1  0  1  0  1  1  1  2     2  0  2  1  2  1  0  0  0  1  1  0\n",
       " 0  1  0  0  2  1  0  2  0  0  2  0  0  …  1  1  2  1  1  0  1  1  0  0  0  1\n",
       " 1  1  2  2  0  2  0  1  0  0  1  0  0     0  2  2  2  1  2  1  1  1  1  2  2\n",
       " 2  0  1  2  2  0  0  1  1  1  0  1  1     1  2  0  0  1  1  1  1  2  1  1  0\n",
       " ⋮              ⋮              ⋮        ⋱        ⋮              ⋮            \n",
       " 2  1  1  1  2  1  2  1  1  0  0  1  0     1  1  0  2  2  1  2  1  2  1  0  2\n",
       " 2  0  1  1  1  2  1  1  1  2  1  1  0     0  0  1  2  1  2  2  1  2  0  1  0\n",
       " 1  0  1  0  0  2  0  2  2  1  1  2  1  …  0  0  1  0  1  0  1  1  1  1  1  2\n",
       " 1  1  1  0  1  1  1  1  0  0  2  0  1     1  1  1  1  1  1  1  1  2  2  1  1\n",
       " 2  1  1  2  0  1  0  1  2  1  1  0  1     1  1  0  1  2  1  1  0  1  1  0  1\n",
       " 1  1  1  0  1  1  0  2  0  2  0  1  0     1  1  1  1  2  1  1  1  2  1  1  2\n",
       " 2  1  2  2  2  0  0  1  0  1  1  0  1     0  0  0  1  1  2  0  0  2  0  1  1\n",
       " 1  2  1  2  1  1  0  0  0  2  1  2  0  …  2  0  2  1  0  1  1  0  1  1  1  0\n",
       " 0  2  1  1  2  2  1  2  2  1  2  0  1     0  1  2  2  1  1  0  2  1  0  0  1\n",
       " 2  1  1  1  1  1  1  0  2  2  0  1  2     0  0  1  2  1  2  1  1  2  1  1  0\n",
       " 2  2  2  1  1  1  2  1  2  1  1  2  1     1  0  2  0  2  1  1  1  1  1  1  1\n",
       " 2  2  1  1  1  2  1  1  2  1  1  2  1     2  0  2  0  0  0  1  1  2  1  2  0"
      ]
     },
     "execution_count": 42,
     "metadata": {},
     "output_type": "execute_result"
    }
   ],
   "source": [
    "Q = M[:,selQTL]"
   ]
  },
  {
   "cell_type": "code",
   "execution_count": 43,
   "metadata": {},
   "outputs": [
    {
     "data": {
      "text/plain": [
       "500×1950 Array{Int64,2}:\n",
       " 1  0  1  2  0  1  1  2  0  1  0  1  1  …  1  1  1  1  0  0  1  0  2  2  1  2\n",
       " 0  0  1  2  0  2  1  1  2  2  2  1  0     0  0  0  2  1  1  1  1  1  2  1  1\n",
       " 1  1  1  0  1  1  2  0  1  1  1  2  2     1  0  1  1  1  0  1  1  1  1  1  1\n",
       " 0  2  1  0  0  0  2  1  1  1  1  1  0     2  0  1  0  0  2  0  1  1  0  1  2\n",
       " 1  0  1  0  1  1  1  1  0  0  0  2  0     0  2  2  1  1  1  2  1  0  1  0  1\n",
       " 0  2  1  0  1  0  1  2  1  1  2  1  1  …  1  0  2  0  1  1  2  1  2  1  1  2\n",
       " 2  0  0  0  1  1  1  2  0  2  1  0  2     0  1  1  0  0  0  1  2  1  1  1  0\n",
       " 0  2  1  1  1  0  1  1  2  2  1  1  0     1  0  2  0  1  0  2  1  1  1  0  2\n",
       " 1  2  1  1  2  1  0  2  1  1  1  0  1     1  1  1  1  1  0  2  1  1  1  0  0\n",
       " 0  1  1  2  1  1  0  2  2  1  1  1  0     2  1  2  1  2  2  2  1  0  1  1  1\n",
       " 1  2  2  1  1  1  1  1  2  2  1  2  0  …  2  0  1  1  1  1  0  0  0  1  0  1\n",
       " 1  1  2  0  0  1  1  2  1  0  1  2  1     1  1  1  2  0  1  0  1  1  0  1  1\n",
       " 0  1  2  0  1  0  0  0  0  0  1  1  1     2  0  0  1  1  1  1  1  1  1  0  1\n",
       " ⋮              ⋮              ⋮        ⋱        ⋮              ⋮            \n",
       " 0  1  0  1  1  1  1  2  2  1  2  0  0     1  2  2  2  1  0  0  0  1  2  1  2\n",
       " 0  0  1  2  1  2  1  1  1  2  1  0  1     2  0  0  1  1  0  0  0  1  0  1  1\n",
       " 1  0  0  2  1  1  2  2  1  2  2  0  2  …  1  1  1  0  0  2  0  2  0  0  1  1\n",
       " 2  2  2  2  1  2  2  0  2  1  0  1  1     1  1  1  2  0  2  1  1  2  0  1  1\n",
       " 1  0  2  2  1  2  1  1  2  2  1  2  1     0  0  1  1  0  1  0  0  0  2  1  1\n",
       " 1  2  2  1  2  0  2  1  2  1  2  0  1     1  1  1  2  2  0  0  0  0  2  2  1\n",
       " 2  1  1  1  1  0  0  1  1  1  0  2  0     1  0  2  1  0  1  0  0  1  1  2  2\n",
       " 0  2  1  0  1  2  0  0  1  1  1  1  2  …  1  1  0  0  0  2  1  0  2  1  1  1\n",
       " 2  2  0  2  0  2  1  2  2  0  1  1  2     0  0  1  0  0  2  1  0  1  1  2  2\n",
       " 1  2  1  0  1  1  1  2  0  0  2  0  2     2  0  1  1  0  0  1  1  1  1  0  1\n",
       " 1  1  1  1  1  1  1  1  1  2  1  0  1     1  0  1  0  1  1  0  0  1  1  2  2\n",
       " 1  1  2  1  1  1  1  2  2  2  0  1  2     1  0  1  1  0  1  2  2  2  0  0  1"
      ]
     },
     "execution_count": 43,
     "metadata": {},
     "output_type": "execute_result"
    }
   ],
   "source": [
    "X = M[:,selMrk]"
   ]
  },
  {
   "cell_type": "markdown",
   "metadata": {
    "slideshow": {
     "slide_type": "subslide"
    }
   },
   "source": [
    "## Simulation of breeding values and phenotypic values"
   ]
  },
  {
   "cell_type": "code",
   "execution_count": 44,
   "metadata": {},
   "outputs": [
    {
     "name": "stdout",
     "output_type": "stream",
     "text": [
      "genetic variance = 25.0\n"
     ]
    }
   ],
   "source": [
    "nQTL = size(Q,2)\n",
    "nObs = size(Q,1)\n",
    "α = rand(Normal(0,1),nQTL)\n",
    "a = Q*α\n",
    "# scaling breeding values to have variance 25.0\n",
    "v = var(a)\n",
    "genVar = 25.0\n",
    "a *= sqrt(genVar/v)\n",
    "va = var(a)\n",
    "# formatted printing\n",
    "println(\"genetic variance = $va\")"
   ]
  },
  {
   "cell_type": "code",
   "execution_count": 45,
   "metadata": {},
   "outputs": [],
   "source": [
    "using Statistics"
   ]
  },
  {
   "cell_type": "code",
   "execution_count": 46,
   "metadata": {
    "scrolled": true
   },
   "outputs": [
    {
     "name": "stdout",
     "output_type": "stream",
     "text": [
      "phenotypic mean     = 90.37274171691206\n",
      "phenotypic variance = 101.52087462630217\n"
     ]
    }
   ],
   "source": [
    "resVar = 75.0\n",
    "resStd = sqrt(resVar)\n",
    "e = rand(Normal(0,resStd),nObs)\n",
    "y = 100 .+ a + e\n",
    "yMean = Statistics.mean(y)\n",
    "yVar = Statistics.var(y)\n",
    "println(\"phenotypic mean     = $yMean\")\n",
    "println(\"phenotypic variance = $yVar\")"
   ]
  },
  {
   "cell_type": "markdown",
   "metadata": {
    "slideshow": {
     "slide_type": "slide"
    }
   },
   "source": [
    "## Simulate Crossbreeding using XSim"
   ]
  },
  {
   "cell_type": "code",
   "execution_count": null,
   "metadata": {
    "scrolled": false,
    "slideshow": {
     "slide_type": "fragment"
    }
   },
   "outputs": [],
   "source": [
    "ngen,popSize = 20,500\n",
    "siresA,damsA,gen1   = sampleRan(popSize, ngen, sires,  dams)\n",
    "siresB,damsB,gen1   = sampleRan(popSize, ngen, sires,  dams)\n",
    "siresAB,damsAB,gen1 = sampleRan(popSize, ngen, siresA, damsB,gen=gen1);"
   ]
  },
  {
   "cell_type": "markdown",
   "metadata": {
    "slideshow": {
     "slide_type": "subslide"
    }
   },
   "source": [
    "## Calculate and plot gene frequencies "
   ]
  },
  {
   "cell_type": "code",
   "execution_count": null,
   "metadata": {
    "slideshow": {
     "slide_type": "fragment"
    }
   },
   "outputs": [],
   "source": [
    "freq=Base.mean(M,1)/2;"
   ]
  },
  {
   "cell_type": "code",
   "execution_count": null,
   "metadata": {
    "scrolled": true,
    "slideshow": {
     "slide_type": "fragment"
    }
   },
   "outputs": [],
   "source": [
    "using Gadfly\n",
    "plot(x=freq,Geom.histogram,\n",
    "Guide.title(\"Distribution of Gene Frequency\"),\n",
    "Guide.ylabel(\"Frequency\"),\n",
    "Guide.xlabel(\"Gene Frequency\"))"
   ]
  },
  {
   "cell_type": "code",
   "execution_count": null,
   "metadata": {
    "scrolled": true
   },
   "outputs": [],
   "source": [
    "size(M)"
   ]
  },
  {
   "cell_type": "code",
   "execution_count": null,
   "metadata": {},
   "outputs": [],
   "source": [
    "M = float(M)"
   ]
  },
  {
   "cell_type": "code",
   "execution_count": null,
   "metadata": {},
   "outputs": [],
   "source": [
    "corMat = cor(M)"
   ]
  },
  {
   "cell_type": "code",
   "execution_count": null,
   "metadata": {},
   "outputs": [],
   "source": [
    "LDMat = zeros(1800,200)\n",
    "for i = 1:1800\n",
    "    LDMat[i,:] = corMat[i,(i+1):(i+200)].^2\n",
    "end"
   ]
  },
  {
   "cell_type": "code",
   "execution_count": null,
   "metadata": {},
   "outputs": [],
   "source": [
    "y = mean(LDMat,1)"
   ]
  },
  {
   "cell_type": "code",
   "execution_count": null,
   "metadata": {},
   "outputs": [],
   "source": [
    "using Gadfly"
   ]
  },
  {
   "cell_type": "code",
   "execution_count": null,
   "metadata": {},
   "outputs": [],
   "source": [
    "plot(x=(1:200)/200*10,y=y)"
   ]
  },
  {
   "cell_type": "code",
   "execution_count": null,
   "metadata": {},
   "outputs": [],
   "source": [
    "ngen = 100\n",
    "sires2,dams2,gen1 = sampleRan(popSize, ngen, sires1, dams1,gen=gen1);"
   ]
  },
  {
   "cell_type": "code",
   "execution_count": null,
   "metadata": {},
   "outputs": [],
   "source": [
    "animals2 = concatCohorts(sires2,dams2)\n",
    "M = getOurGenotypes(animals2)\n",
    "varM = var(M,1)"
   ]
  },
  {
   "cell_type": "code",
   "execution_count": null,
   "metadata": {},
   "outputs": [],
   "source": [
    "Mark = M[:,varM .> 0]"
   ]
  },
  {
   "cell_type": "code",
   "execution_count": null,
   "metadata": {
    "scrolled": false
   },
   "outputs": [],
   "source": [
    "corMat = cor(Mark)\n",
    "nRows  = size(corMat,1)\n",
    "LDMat  = zeros(nRows-200,200);"
   ]
  },
  {
   "cell_type": "code",
   "execution_count": null,
   "metadata": {},
   "outputs": [],
   "source": [
    "for i = 1:(nRows-200)\n",
    "    LDMat[i,:] = corMat[i,(i+1):(i+200)].^2\n",
    "end"
   ]
  },
  {
   "cell_type": "code",
   "execution_count": null,
   "metadata": {},
   "outputs": [],
   "source": [
    "y = mean(LDMat,1)"
   ]
  },
  {
   "cell_type": "code",
   "execution_count": null,
   "metadata": {},
   "outputs": [],
   "source": [
    "plot(x=(1:200)/200*10,y=y)"
   ]
  },
  {
   "cell_type": "code",
   "execution_count": null,
   "metadata": {
    "scrolled": true,
    "slideshow": {
     "slide_type": "skip"
    }
   },
   "outputs": [],
   "source": [
    ";ipython nbconvert --to slides dataSimulation.ipynb"
   ]
  }
 ],
 "metadata": {
  "kernelspec": {
   "display_name": "Julia 1.0.0",
   "language": "julia",
   "name": "julia-1.0"
  },
  "language_info": {
   "file_extension": ".jl",
   "mimetype": "application/julia",
   "name": "julia",
   "version": "1.0.0"
  }
 },
 "nbformat": 4,
 "nbformat_minor": 1
}
