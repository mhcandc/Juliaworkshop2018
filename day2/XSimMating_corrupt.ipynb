{
 "cells": [
  {
   "cell_type": "markdown",
   "metadata": {},
   "source": [
    "# Simulating genomic data in a 'plant breeding' context"
   ]
  },
  {
   "cell_type": "code",
   "execution_count": 1,
   "metadata": {
    "scrolled": true
   },
   "outputs": [],
   "source": [
    "using XSim, DelimitedFiles, Distributions"
   ]
  },
  {
   "cell_type": "code",
   "execution_count": 2,
   "metadata": {},
   "outputs": [
    {
     "ename": "UndefVarError",
     "evalue": "UndefVarError: Pkg not defined",
     "output_type": "error",
     "traceback": [
      "UndefVarError: Pkg not defined",
      "",
      "Stacktrace:",
      " [1] top-level scope at In[2]:1"
     ]
    }
   ],
   "source": [
    "#using Pkg;Pkg.rm(\"XSim\")\n",
    "Pkg.update()"
   ]
  },
  {
   "cell_type": "markdown",
   "metadata": {},
   "source": [
    "### Defining the genome and reading a real marker catalogue"
   ]
  },
  {
   "cell_type": "code",
   "execution_count": 118,
   "metadata": {},
   "outputs": [],
   "source": [
    "#Pkg.add(PackageSpec(name=\"XSim\",rev=\"master\"))"
   ]
  },
  {
   "cell_type": "code",
   "execution_count": 3,
   "metadata": {},
   "outputs": [
    {
     "name": "stdout",
     "output_type": "stream",
     "text": [
      "Number of QTL on chromosome 1: 15\n",
      "Number of QTL on chromosome 2: 17\n"
     ]
    }
   ],
   "source": [
    "mutRate    = 0.0\n",
    "numChr     = 2\n",
    "nLoci      = 6096\n",
    "chrLength  = [1.62;1.41]\n",
    "numLoci    = [3339;2757]\n",
    "mutationRate = 0.0\n",
    "myData = readdlm(\"markerCatalogue4JuliaChrom1-2\", ' ', Any, '\\n', header=false)\n",
    "mp1 = Float64.(myData[1,1:numLoci[1]])\n",
    "mp2 = Float64.(myData[2,1:numLoci[2]])\n",
    "mapPos = [mp1, mp2]\n",
    "\n",
    "genefreq1   = fill(0.5,numLoci[1])\n",
    "genefreq2 = fill(0.5,numLoci[2])\n",
    "geneFreq = [genefreq1, genefreq2]\n",
    "\n",
    "idx = rand(numLoci[1]).>0.995  # you want 0.5% to be QTL, i.e about 17 QTL\n",
    "qtlIndex1 = collect(1:numLoci[1])[idx]\n",
    "idx = rand(numLoci[2]).>0.995  # you want 0.5%% to be QTL, i.e about 14 QTL\n",
    "qtlIndex2 = collect(1:numLoci[2])[idx]\n",
    "qtlIndex = [qtlIndex1, qtlIndex2]\n",
    "line = 0\n",
    "numQTL = 0\n",
    "\n",
    "for i in qtlIndex\n",
    "    line +=1\n",
    "    println(\"Number of QTL on chromosome $line: \", length(i))\n",
    "    numQTL += 1\n",
    "end\n",
    "\n",
    "qtlEffect1 = randn(length(qtlIndex1))/sqrt(0.5*numQTL)\n",
    "qtlEffect2 = randn(length(qtlIndex2))/sqrt(0.5*numQTL)\n",
    "qtlEffect = [qtlEffect1, qtlEffect2];"
   ]
  },
  {
   "cell_type": "markdown",
   "metadata": {},
   "source": [
    "### Building the genome\n",
    "Passing  arrays for chrLength, numLoci and arrays of arrays for mapPos, geneFreq, qtlIndex, qtlEffect\n",
    "i.e. using the most flexible version of build_genome"
   ]
  },
  {
   "cell_type": "code",
   "execution_count": 4,
   "metadata": {},
   "outputs": [],
   "source": [
    "build_genome(numChr,chrLength,numLoci,geneFreq, mapPos, qtlIndex, qtlEffect, mutationRate)"
   ]
  },
  {
   "cell_type": "markdown",
   "metadata": {},
   "source": [
    "### Sampling founder individuals from a file with 1326 genotyped individuals\n",
    "Note that the genotype data for two chromosomes on the file is phased. You may have to use FImpute or some similar software for phasing. You may read less individuals form the data file than it contains, but not more."
   ]
  },
  {
   "cell_type": "code",
   "execution_count": 5,
   "metadata": {
    "scrolled": false
   },
   "outputs": [
    {
     "name": "stdout",
     "output_type": "stream",
     "text": [
      "Sampling 1326 animals into base population.\n"
     ]
    },
    {
     "ename": "MethodError",
     "evalue": "MethodError: no method matching zero(::Type{SubString{String}})\nClosest candidates are:\n  zero(!Matched::Type{LibGit2.GitHash}) at /buildworker/worker/package_linux64/build/usr/share/julia/stdlib/v1.0/LibGit2/src/oid.jl:220\n  zero(!Matched::Type{Pkg.Resolve.VersionWeights.VersionWeight}) at /buildworker/worker/package_linux64/build/usr/share/julia/stdlib/v1.0/Pkg/src/resolve/VersionWeights.jl:19\n  zero(!Matched::Type{Pkg.Resolve.MaxSum.FieldValues.FieldValue}) at /buildworker/worker/package_linux64/build/usr/share/julia/stdlib/v1.0/Pkg/src/resolve/FieldValues.jl:44\n  ...",
     "output_type": "error",
     "traceback": [
      "MethodError: no method matching zero(::Type{SubString{String}})\nClosest candidates are:\n  zero(!Matched::Type{LibGit2.GitHash}) at /buildworker/worker/package_linux64/build/usr/share/julia/stdlib/v1.0/LibGit2/src/oid.jl:220\n  zero(!Matched::Type{Pkg.Resolve.VersionWeights.VersionWeight}) at /buildworker/worker/package_linux64/build/usr/share/julia/stdlib/v1.0/Pkg/src/resolve/VersionWeights.jl:19\n  zero(!Matched::Type{Pkg.Resolve.MaxSum.FieldValues.FieldValue}) at /buildworker/worker/package_linux64/build/usr/share/julia/stdlib/v1.0/Pkg/src/resolve/FieldValues.jl:44\n  ...",
      "",
      "Stacktrace:",
      " [1] float(::Array{SubString{String},1}) at ./float.jl:883",
      " [2] initFounderHaps(::XSim.Animal, ::IOStream) at /opt/julia/packages/XSim/XfykA/src/cohort/founders.jl:37",
      " [3] sampleFounder(::IOStream) at /opt/julia/packages/XSim/XfykA/src/cohort/founders.jl:30",
      " [4] #sampleFounders#2(::String, ::Bool, ::Function, ::Int64, ::String) at /opt/julia/packages/XSim/XfykA/src/cohort/founders.jl:17",
      " [5] sampleFounders(::Int64, ::String) at /opt/julia/packages/XSim/XfykA/src/cohort/founders.jl:9",
      " [6] top-level scope at In[5]:2"
     ]
    }
   ],
   "source": [
    "popSizeFounder = 1326\n",
    "basePop = sampleFounders(popSizeFounder,\"reformattedMarkerDataChrom1-2\");"
   ]
  },
  {
   "cell_type": "markdown",
   "metadata": {},
   "source": [
    "Splitting the founder individuals into tow cohorts of equal size"
   ]
  },
  {
   "cell_type": "code",
   "execution_count": 122,
   "metadata": {},
   "outputs": [
    {
     "ename": "UndefVarError",
     "evalue": "UndefVarError: basePop not defined",
     "output_type": "error",
     "traceback": [
      "UndefVarError: basePop not defined",
      "",
      "Stacktrace:",
      " [1] top-level scope at In[122]:2"
     ]
    }
   ],
   "source": [
    "basePopMales = XSim.Cohort(Array{XSim.Animal,1}(undef,0),Array{Int64,2}(undef,0,0))\n",
    "basePopMales.animalCohort = basePop.animalCohort[1:663];"
   ]
  },
  {
   "cell_type": "code",
   "execution_count": null,
   "metadata": {},
   "outputs": [],
   "source": [
    "basePopFemales = XSim.Cohort(Array{XSim.Animal,1}(undef,0),Array{Int64,2}(undef,0,0))\n",
    "basePopFemales.animalCohort = basePop.animalCohort[664:1326];"
   ]
  },
  {
   "cell_type": "markdown",
   "metadata": {},
   "source": [
    "Although not used here, animals and cohorts belong to breeds, and the breed coposition can be set for cohorts and is inferered thereafter from the mating strategy"
   ]
  },
  {
   "cell_type": "code",
   "execution_count": null,
   "metadata": {
    "scrolled": true
   },
   "outputs": [],
   "source": [
    "XSim.setBreedComp(basePop,[1.0])\n",
    "XSim.setBreedComp(basePopMales,[1.0])\n",
    "XSim.setBreedComp(basePopFemales,[1.0]);"
   ]
  },
  {
   "cell_type": "markdown",
   "metadata": {},
   "source": [
    "Removing output files form a previous run, then creating 5'000 DH lines from an initial crossing of the two base populations"
   ]
  },
  {
   "cell_type": "code",
   "execution_count": null,
   "metadata": {},
   "outputs": [],
   "source": [
    "outputFileName = \"JuliaPlants\"\n",
    "run(`\\rm -f $outputFileName.ped`)\n",
    "run(`\\rm -f $outputFileName.phe`)\n",
    "run(`\\rm -f $outputFileName.brc`)\n",
    "run(`\\rm -f $outputFileName.gen`)\n",
    "\n",
    "numOffspring = 5000\n",
    "DHBaseLines1 = XSim.sampleDHLines(basePopMales, basePopFemales, numOffspring)\n",
    "DHBaseLines2 = XSim.sampleDHLines(basePopMales, basePopFemales, numOffspring);"
   ]
  },
  {
   "cell_type": "markdown",
   "metadata": {},
   "source": [
    "Lets look at the mean and variance of the genotypic values of our 5000 DH-lines in DHBaseline1 and DHBaseline2.  "
   ]
  },
  {
   "cell_type": "code",
   "execution_count": null,
   "metadata": {
    "scrolled": true
   },
   "outputs": [],
   "source": [
    "var(getOurGenVals(DHBaseLines1))"
   ]
  },
  {
   "cell_type": "code",
   "execution_count": null,
   "metadata": {},
   "outputs": [],
   "source": [
    "var(getOurGenVals(DHBaseLines2))"
   ]
  },
  {
   "cell_type": "code",
   "execution_count": null,
   "metadata": {},
   "outputs": [],
   "source": [
    "mean(getOurGenVals(DHBaseLines1))"
   ]
  },
  {
   "cell_type": "code",
   "execution_count": null,
   "metadata": {},
   "outputs": [],
   "source": [
    "mean(getOurGenVals(DHBaseLines2))"
   ]
  },
  {
   "cell_type": "markdown",
   "metadata": {},
   "source": [
    "Let us specify  the residual variance to simulate phenotypic values, note that getOurPhenVals() is actually setting all individuals phenotypic values in the cohort that is passed as an argument."
   ]
  },
  {
   "cell_type": "code",
   "execution_count": null,
   "metadata": {},
   "outputs": [],
   "source": [
    "resVar = 5\n",
    "XSim.setResidualVariance(resVar)"
   ]
  },
  {
   "cell_type": "code",
   "execution_count": null,
   "metadata": {},
   "outputs": [],
   "source": [
    "var(getOurPhenVals(DHBaseLines1,resVar))"
   ]
  },
  {
   "cell_type": "code",
   "execution_count": null,
   "metadata": {},
   "outputs": [],
   "source": [
    "var(getOurPhenVals(DHBaseLines2,resVar))"
   ]
  },
  {
   "cell_type": "code",
   "execution_count": null,
   "metadata": {},
   "outputs": [],
   "source": [
    "outputFileName"
   ]
  },
  {
   "cell_type": "markdown",
   "metadata": {},
   "source": [
    "Now lets output the data to the files. Note that outputPedigree() is not only outputting the pedigree, but also the phenotypes and gentoypes, look at the files that got generated!"
   ]
  },
  {
   "cell_type": "code",
   "execution_count": null,
   "metadata": {
    "scrolled": true
   },
   "outputs": [],
   "source": [
    "outputPedigree(DHBaseLines1,outputFileName);\n",
    "outputPedigree(DHBaseLines2,outputFileName);"
   ]
  },
  {
   "cell_type": "markdown",
   "metadata": {},
   "source": [
    "Sampling each 2500 male and female parents from DHBaseline1 at random and producing one offspring each. Sampling of parents is done with replacement. Note that sampleRan() is sampling 50% female and 50% male offspring, we are concatenating them into a single cohort. Note further, that we are using the same population to sample male and female parents from, so sex is ignored and we might even end up cloning an individual. Furthermore, after this step of random mating, our DH-Lines are not double haploids anymore. With the parameter numGen that is passed as an argument to sampleRan(), we are determining the number of generations of random mating. The variable 'gen' is used to store the actual numer of generation the simualtion currently is at."
   ]
  },
  {
   "cell_type": "code",
   "execution_count": null,
   "metadata": {},
   "outputs": [],
   "source": [
    "DHLine1_H1 = XSim.Cohort(Array{XSim.Animal,1}(undef,0),Array{Int64,2}(undef,0,0)) \n",
    "DHLine1_H1m = XSim.Cohort(Array{XSim.Animal,1}(undef,0),Array{Int64,2}(undef,0,0)) \n",
    "DHLine1_H1f = XSim.Cohort(Array{XSim.Animal,1}(undef,0),Array{Int64,2}(undef,0,0))\n",
    "numOffspring = 2500\n",
    "numGen = 1\n",
    "gen = 1\n",
    "output = true\n",
    "DHLine1_H1m, DHLine1_H1f, gen = sampleRan(numOffspring, numGen, DHBaseLines1, DHBaseLines1, fileName=outputFileName)\n",
    "DHLine1_H1 = concatCohorts(DHLine1_H1m, DHLine1_H1f);"
   ]
  },
  {
   "cell_type": "markdown",
   "metadata": {},
   "source": [
    "Now we are repeating the same random mating for DHBaseline2"
   ]
  },
  {
   "cell_type": "code",
   "execution_count": null,
   "metadata": {},
   "outputs": [],
   "source": [
    "DHLine2_H1 = XSim.Cohort(Array{XSim.Animal,1}(undef,0),Array{Int64,2}(undef,0,0)) \n",
    "DHLine2_H1m = XSim.Cohort(Array{XSim.Animal,1}(undef,0),Array{Int64,2}(undef,0,0)) \n",
    "DHLine2_H1f = XSim.Cohort(Array{XSim.Animal,1}(undef,0),Array{Int64,2}(undef,0,0))\n",
    "numOffspring = 2500\n",
    "numGen = 1\n",
    "gen = 1\n",
    "output = true\n",
    "DHLine2_H1m, DHLine2_H1f, gen = sampleRan(numOffspring, numGen, DHBaseLines2, DHBaseLines2, fileName=outputFileName)\n",
    "DHLine2_H1 = concatCohorts(DHLine2_H1m, DHLine2_H1f);"
   ]
  },
  {
   "cell_type": "markdown",
   "metadata": {},
   "source": [
    "We know now how to generate double haploid lines and how to do random mating. Next let's do phenotypic selection. As before we are declaring the male and female cohorts to hold the offspring that are going to be generated. We will be generation 1000 offspring based on 100 phenotypically best male and female parents. Again we will be selecting the phenotypically best 100 parents from the same population that was generated in the previous step (DHLine1_H1)."
   ]
  },
  {
   "cell_type": "code",
   "execution_count": null,
   "metadata": {},
   "outputs": [],
   "source": [
    "DHLine1_H2 = XSim.Cohort(Array{XSim.Animal,1}(undef,0),Array{Int64,2}(undef,0,0)) \n",
    "DHLine1_H2m = XSim.Cohort(Array{XSim.Animal,1}(undef,0),Array{Int64,2}(undef,0,0)) \n",
    "DHLine1_H2f = XSim.Cohort(Array{XSim.Animal,1}(undef,0),Array{Int64,2}(undef,0,0))\n",
    "numMaleParents = 100\n",
    "numFemaleParents = 100\n",
    "numOffspring = 1000\n",
    "numGen = 1\n",
    "DHLine1_H2m, DHLine1_H2f, gen = sampleSel(numOffspring, numMaleParents, numFemaleParents, numGen, \n",
    "                                    DHLine1_H1, DHLine1_H1, XSim.common.varRes, gen=gen,\n",
    "                                    fileName=outputFileName, direction=1);\n",
    "DHLine1_H2 = concatCohorts(DHLine1_H2m, DHLine1_H2f);"
   ]
  },
  {
   "cell_type": "markdown",
   "metadata": {},
   "source": [
    "As before, we are applying mass selection also to the other population in the same way as was done above for DHLine_H1 now for DHLine_H2"
   ]
  },
  {
   "cell_type": "code",
   "execution_count": null,
   "metadata": {
    "scrolled": true
   },
   "outputs": [],
   "source": [
    "DHLine2_H2 = XSim.Cohort(Array{XSim.Animal,1}(undef,0),Array{Int64,2}(undef,0,0)) \n",
    "DHLine2_H2m = XSim.Cohort(Array{XSim.Animal,1}(undef,0),Array{Int64,2}(undef,0,0)) \n",
    "DHLine2_H2f = XSim.Cohort(Array{XSim.Animal,1}(undef,0),Array{Int64,2}(undef,0,0))\n",
    "numMaleParents = 100\n",
    "numFemaleParents = 100\n",
    "numOffspring = 1000\n",
    "numGen = 1\n",
    "DHLine2_H2m, DHLine2_H2f, gen = sampleSel(numOffspring, numMaleParents, numFemaleParents, numGen, \n",
    "                                    DHLine2_H1, DHLine2_H1, XSim.common.varRes, gen=gen,\n",
    "                                    fileName=outputFileName, direction=1);\n",
    "DHLine2_H2 = concatCohorts(DHLine2_H2m, DHLine2_H2f);"
   ]
  },
  {
   "cell_type": "markdown",
   "metadata": {},
   "source": [
    "After random mating and phentoypic selection, let us apply selection based on BLUP, i.e. breeding values. For this purpose, we need to read the pedigree and phenotpyic files that were produced sampleRan() and sampleSel() as well as outputPedigree() above. First, let's read the phenotypic data into a dataframe."
   ]
  },
  {
   "cell_type": "code",
   "execution_count": null,
   "metadata": {},
   "outputs": [],
   "source": [
    "using DataFrames\n",
    "# BLUP selection\n",
    "phenofile = outputFileName*\".phe\"\n",
    "colNames = [:Animal;:y;:bv]\n",
    "#dfPhen = CSV.read(phenofile,delim = ' ',header=false,names=colNames)\n",
    "dfPhen = readtable(phenofile, separator=' ', header=false)\n",
    "names!(dfPhen, colNames)\n",
    "dfPhen[:1] = string.(dfPhen[:1])\n",
    "dfPhen"
   ]
  },
  {
   "cell_type": "markdown",
   "metadata": {},
   "source": [
    "Now, we read the pedigree in to a dataframe, reformat it, write is out again such that it can finally be read by the get_pedigree() method. This should be fixed in future releases...."
   ]
  },
  {
   "cell_type": "code",
   "execution_count": null,
   "metadata": {},
   "outputs": [],
   "source": [
    "pedfile   = outputFileName*\".ped\"\n",
    "dfPed = readtable(pedfile,separator = ' ', header = false)"
   ]
  },
  {
   "cell_type": "code",
   "execution_count": null,
   "metadata": {},
   "outputs": [],
   "source": [
    "using CSV\n",
    "pedfile = outputFileName*\".pedReformatted\"\n",
    "CSV.write(pedfile, dfPed, delim=';',header=[\"ind\",\"sire\" , \"dam\"])"
   ]
  },
  {
   "cell_type": "code",
   "execution_count": null,
   "metadata": {
    "scrolled": true
   },
   "outputs": [],
   "source": [
    "ped = XSim.get_pedigree(pedfile,separator=';');"
   ]
  },
  {
   "cell_type": "markdown",
   "metadata": {},
   "source": [
    "After having read phenotypes and genotypes, we can now set the genetic variance that shall be used in BLUP, define the model for analysis, setup the mixed model equations and solve them. "
   ]
  },
  {
   "cell_type": "code",
   "execution_count": null,
   "metadata": {},
   "outputs": [],
   "source": [
    "varGen = 5\n",
    "mme = XSim.build_model(\"y = intercept + Animal\",resVar)\n",
    "XSim.set_random(mme,\"Animal\",ped,varGen)\n",
    "out = XSim.solve(mme,dfPhen,solver=\"GaussSeidel\",printout_frequency=40)"
   ]
  },
  {
   "cell_type": "markdown",
   "metadata": {},
   "source": [
    "Now all our indiviudals have estimated genotypic values, with the method putEBV() we are transferring them to the indiviudals that we would like to select to become the parents of the next generation. In our case, these would be the cohorts DHLine1_H2 and DHLine2_H2"
   ]
  },
  {
   "cell_type": "code",
   "execution_count": null,
   "metadata": {
    "scrolled": false
   },
   "outputs": [],
   "source": [
    "# transfer BLUP-EBV to animals\n",
    "XSim.putEBV(DHLine1_H2,ped,mme,out)\n",
    "XSim.putEBV(DHLine2_H2,ped,mme,out)"
   ]
  },
  {
   "cell_type": "code",
   "execution_count": null,
   "metadata": {},
   "outputs": [],
   "source": [
    "DHLine1_H2_sorted = XSim.Cohort(Array{XSim.Animal}(undef,0),Array{Int64}(undef,0,0))\n",
    "DHLine2_H2_sorted  = XSim.Cohort(Array{XSim.Animal}(undef,0),Array{Int64}(undef,0,0))\n",
    "DHLine1_H3  = XSim.Cohort(Array{XSim.Animal}(undef,0),Array{Int64}(undef,0,0))\n",
    "DHLine2_H3  = XSim.Cohort(Array{XSim.Animal}(undef,0),Array{Int64}(undef,0,0))\n",
    "direction = 1.0\n",
    "numMaleParents = 50\n",
    "numFemaleParents = 50\n",
    "numOffspring = 500\n",
    "numGen = 1"
   ]
  },
  {
   "cell_type": "markdown",
   "metadata": {},
   "source": [
    "After having declared empty cohorts for the offspring of the next generation, we are creating a y vector with the animals EBVs in the direction we want to select on (e.g. if low values arefavourable, direction should be -1.0). Then EBVs are sorted and the best number of parents are selected to be passed as parents to sampleChildren()"
   ]
  },
  {
   "cell_type": "code",
   "execution_count": null,
   "metadata": {},
   "outputs": [],
   "source": [
    "println(\"Generation $gen : sampling children by BLUP\")\n",
    "y = direction*[animal.ebv for animal in DHLine1_H2.animalCohort]\n",
    "DHLine1_H2_sorted.animalCohort = DHLine1_H2.animalCohort[sortperm(y)][(end-numMaleParents+1):end]\n",
    "y = direction*[animal.ebv for animal in DHLine2_H2.animalCohort]\n",
    "DHLine2_H2_sorted.animalCohort = DHLine2_H2.animalCohort[sortperm(y)][(end-numFemaleParents+1):end]\n",
    "DHLine1_H3 = XSim.sampleChildren(DHLine1_H2_sorted,DHLine1_H2_sorted,numOffspring)\n",
    "DHLine2_H3 = XSim.sampleChildren(DHLine2_H2_sorted,DHLine2_H2_sorted,numOffspring)\n",
    "outputPedigree(DHLine1_H3,outputFileName)\n",
    "outputPedigree(DHLine2_H3,outputFileName)\n",
    "gen+=1"
   ]
  },
  {
   "cell_type": "markdown",
   "metadata": {},
   "source": [
    "Finally, we are producing each 250 double haploid lines again, from the offspring of the BLUP selected parents "
   ]
  },
  {
   "cell_type": "code",
   "execution_count": null,
   "metadata": {},
   "outputs": [],
   "source": [
    "println(\"Producing DHLines again....\")\n",
    "DHLine1_4  = XSim.Cohort(Array{XSim.Animal}(undef,0),Array{Int64}(undef,0,0))\n",
    "DHLine2_4  = XSim.Cohort(Array{XSim.Animal}(undef,0),Array{Int64}(undef,0,0))\n",
    "\n",
    "numOffspring = 250\n",
    "DHLine1_4 = XSim.sampleDHLines(DHLine1_H3, DHLine1_H3, numOffspring)\n",
    "DHLine2_4 = XSim.sampleDHLines(DHLine2_H3, DHLine2_H3, numOffspring);\n",
    "     \n"
   ]
  },
  {
   "cell_type": "code",
   "execution_count": null,
   "metadata": {},
   "outputs": [],
   "source": [
    "outputPedigree(DHLine1_4,outputFileName);\n",
    "outputPedigree(DHLine2_4,outputFileName);"
   ]
  },
  {
   "cell_type": "markdown",
   "metadata": {},
   "source": [
    "The final step is crossing the two DHLines again to produce hybrids...."
   ]
  },
  {
   "cell_type": "code",
   "execution_count": null,
   "metadata": {},
   "outputs": [],
   "source": [
    "println(\"Producing hybrids now....\")\n",
    "H1 = XSim.Cohort(Array{XSim.Animal,1}(undef,0),Array{Int64,2}(undef,0,0)) \n",
    "H1m = XSim.Cohort(Array{XSim.Animal,1}(undef,0),Array{Int64,2}(undef,0,0)) \n",
    "H1f = XSim.Cohort(Array{XSim.Animal,1}(undef,0),Array{Int64,2}(undef,0,0))\n",
    "numOffspring = 250\n",
    "numGen = 1\n",
    "gen = 1\n",
    "output = true\n",
    "H1m, H1f, gen = sampleRan(numOffspring, numGen, DHLine1_4, DHLine2_4, fileName=outputFileName)\n",
    "H1 = concatCohorts(DHLine2_H1m, DHLine2_H1f);\n"
   ]
  },
  {
   "cell_type": "markdown",
   "metadata": {},
   "source": [
    "Of course the 'breeding program' outlined here is not reflecting a real situation but rahter shows you the tools XSim has to do simulations. You should be able to modify the above code to better reflect a real situation. Also you may modify XSim's methodsto better reflect the situation you need to cope with. Note that all data simulated is written to the files with the name <outputFileName> that you declared above. so You should be able to look at selection response, genetic trend across generation etc."
   ]
  },
  {
   "cell_type": "code",
   "execution_count": null,
   "metadata": {},
   "outputs": [],
   "source": []
  }
 ],
 "metadata": {
  "kernelspec": {
   "display_name": "Julia 1.0.0",
   "language": "julia",
   "name": "julia-1.0"
  },
  "language_info": {
   "file_extension": ".jl",
   "mimetype": "application/julia",
   "name": "julia",
   "version": "1.0.0"
  }
 },
 "nbformat": 4,
 "nbformat_minor": 2
}
