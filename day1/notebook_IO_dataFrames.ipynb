{
 "cells": [
  {
   "cell_type": "markdown",
   "metadata": {},
   "source": [
    "## File I/O: Reading from /writing to a datafile"
   ]
  },
  {
   "cell_type": "code",
   "execution_count": 5,
   "metadata": {
    "scrolled": false
   },
   "outputs": [
    {
     "name": "stdout",
     "output_type": "stream",
     "text": [
      "\u001b[32m\u001b[1m Resolving\u001b[22m\u001b[39m package versions...\n",
      "\u001b[32m\u001b[1m  Updating\u001b[22m\u001b[39m `/opt/julia/environments/v1.0/Project.toml`\n",
      "\u001b[90m [no changes]\u001b[39m\n",
      "\u001b[32m\u001b[1m  Updating\u001b[22m\u001b[39m `/opt/julia/environments/v1.0/Manifest.toml`\n",
      "\u001b[90m [no changes]\u001b[39m\n"
     ]
    }
   ],
   "source": [
    "using Pkg\n",
    "Pkg.add(\"DataFrames\")\n",
    "using DataFrames"
   ]
  },
  {
   "cell_type": "code",
   "execution_count": 7,
   "metadata": {},
   "outputs": [
    {
     "name": "stdout",
     "output_type": "stream",
     "text": [
      "search: \u001b[0m\u001b[1mr\u001b[22m\u001b[0m\u001b[1me\u001b[22m\u001b[0m\u001b[1ma\u001b[22m\u001b[0m\u001b[1md\u001b[22m\u001b[0m\u001b[1md\u001b[22m\u001b[0m\u001b[1ml\u001b[22m\u001b[0m\u001b[1mm\u001b[22m \u001b[0m\u001b[1mr\u001b[22m\u001b[0m\u001b[1me\u001b[22m\u001b[0m\u001b[1ma\u001b[22m\u001b[0m\u001b[1md\u001b[22m\u001b[0m\u001b[1md\u001b[22mir\n",
      "\n"
     ]
    },
    {
     "data": {
      "text/markdown": [
       "```\n",
       "readdlm(source, T::Type; options...)\n",
       "```\n",
       "\n",
       "The columns are assumed to be separated by one or more whitespaces. The end of line delimiter is taken as `\\n`.\n",
       "\n",
       "# Examples\n",
       "\n",
       "```jldoctest\n",
       "julia> using DelimitedFiles\n",
       "\n",
       "julia> x = [1; 2; 3; 4];\n",
       "\n",
       "julia> y = [5; 6; 7; 8];\n",
       "\n",
       "julia> open(\"delim_file.txt\", \"w\") do io\n",
       "           writedlm(io, [x y])\n",
       "       end;\n",
       "\n",
       "julia> readdlm(\"delim_file.txt\", Int64)\n",
       "4×2 Array{Int64,2}:\n",
       " 1  5\n",
       " 2  6\n",
       " 3  7\n",
       " 4  8\n",
       "\n",
       "julia> readdlm(\"delim_file.txt\", Float64)\n",
       "4×2 Array{Float64,2}:\n",
       " 1.0  5.0\n",
       " 2.0  6.0\n",
       " 3.0  7.0\n",
       " 4.0  8.0\n",
       "\n",
       "julia> rm(\"delim_file.txt\")\n",
       "```\n",
       "\n",
       "---\n",
       "\n",
       "```\n",
       "readdlm(source, delim::AbstractChar, T::Type; options...)\n",
       "```\n",
       "\n",
       "The end of line delimiter is taken as `\\n`.\n",
       "\n",
       "# Examples\n",
       "\n",
       "```jldoctest\n",
       "julia> using DelimitedFiles\n",
       "\n",
       "julia> x = [1; 2; 3; 4];\n",
       "\n",
       "julia> y = [1.1; 2.2; 3.3; 4.4];\n",
       "\n",
       "julia> open(\"delim_file.txt\", \"w\") do io\n",
       "           writedlm(io, [x y], ',')\n",
       "       end;\n",
       "\n",
       "julia> readdlm(\"delim_file.txt\", ',', Float64)\n",
       "4×2 Array{Float64,2}:\n",
       " 1.0  1.1\n",
       " 2.0  2.2\n",
       " 3.0  3.3\n",
       " 4.0  4.4\n",
       "\n",
       "julia> rm(\"delim_file.txt\")\n",
       "```\n",
       "\n",
       "---\n",
       "\n",
       "```\n",
       "readdlm(source; options...)\n",
       "```\n",
       "\n",
       "The columns are assumed to be separated by one or more whitespaces. The end of line delimiter is taken as `\\n`. If all data is numeric, the result will be a numeric array. If some elements cannot be parsed as numbers, a heterogeneous array of numbers and strings is returned.\n",
       "\n",
       "# Examples\n",
       "\n",
       "```jldoctest\n",
       "julia> using DelimitedFiles\n",
       "\n",
       "julia> x = [1; 2; 3; 4];\n",
       "\n",
       "julia> y = [\"a\"; \"b\"; \"c\"; \"d\"];\n",
       "\n",
       "julia> open(\"delim_file.txt\", \"w\") do io\n",
       "           writedlm(io, [x y])\n",
       "       end;\n",
       "\n",
       "julia> readdlm(\"delim_file.txt\")\n",
       "4×2 Array{Any,2}:\n",
       " 1  \"a\"\n",
       " 2  \"b\"\n",
       " 3  \"c\"\n",
       " 4  \"d\"\n",
       "\n",
       "julia> rm(\"delim_file.txt\")\n",
       "```\n",
       "\n",
       "---\n",
       "\n",
       "```\n",
       "readdlm(source, delim::AbstractChar; options...)\n",
       "```\n",
       "\n",
       "The end of line delimiter is taken as `\\n`. If all data is numeric, the result will be a numeric array. If some elements cannot be parsed as numbers, a heterogeneous array of numbers and strings is returned.\n",
       "\n",
       "# Examples\n",
       "\n",
       "```jldoctest\n",
       "julia> using DelimitedFiles\n",
       "\n",
       "julia> x = [1; 2; 3; 4];\n",
       "\n",
       "julia> y = [1.1; 2.2; 3.3; 4.4];\n",
       "\n",
       "julia> open(\"delim_file.txt\", \"w\") do io\n",
       "           writedlm(io, [x y], ',')\n",
       "       end;\n",
       "\n",
       "julia> readdlm(\"delim_file.txt\", ',')\n",
       "4×2 Array{Float64,2}:\n",
       " 1.0  1.1\n",
       " 2.0  2.2\n",
       " 3.0  3.3\n",
       " 4.0  4.4\n",
       "\n",
       "julia> rm(\"delim_file.txt\")\n",
       "\n",
       "julia> z = [\"a\"; \"b\"; \"c\"; \"d\"];\n",
       "\n",
       "julia> open(\"delim_file.txt\", \"w\") do io\n",
       "           writedlm(io, [x z], ',')\n",
       "       end;\n",
       "\n",
       "julia> readdlm(\"delim_file.txt\", ',')\n",
       "4×2 Array{Any,2}:\n",
       " 1  \"a\"\n",
       " 2  \"b\"\n",
       " 3  \"c\"\n",
       " 4  \"d\"\n",
       "\n",
       "julia> rm(\"delim_file.txt\")\n",
       "```\n",
       "\n",
       "---\n",
       "\n",
       "```\n",
       "readdlm(source, delim::AbstractChar, eol::AbstractChar; options...)\n",
       "```\n",
       "\n",
       "If all data is numeric, the result will be a numeric array. If some elements cannot be parsed as numbers, a heterogeneous array of numbers and strings is returned.\n",
       "\n",
       "---\n",
       "\n",
       "```\n",
       "readdlm(source, delim::AbstractChar, T::Type, eol::AbstractChar; header=false, skipstart=0, skipblanks=true, use_mmap, quotes=true, dims, comments=false, comment_char='#')\n",
       "```\n",
       "\n",
       "Read a matrix from the source where each line (separated by `eol`) gives one row, with elements separated by the given delimiter. The source can be a text file, stream or byte array. Memory mapped files can be used by passing the byte array representation of the mapped segment as source.\n",
       "\n",
       "If `T` is a numeric type, the result is an array of that type, with any non-numeric elements as `NaN` for floating-point types, or zero. Other useful values of `T` include `String`, `AbstractString`, and `Any`.\n",
       "\n",
       "If `header` is `true`, the first row of data will be read as header and the tuple `(data_cells, header_cells)` is returned instead of only `data_cells`.\n",
       "\n",
       "Specifying `skipstart` will ignore the corresponding number of initial lines from the input.\n",
       "\n",
       "If `skipblanks` is `true`, blank lines in the input will be ignored.\n",
       "\n",
       "If `use_mmap` is `true`, the file specified by `source` is memory mapped for potential speedups. Default is `true` except on Windows. On Windows, you may want to specify `true` if the file is large, and is only read once and not written to.\n",
       "\n",
       "If `quotes` is `true`, columns enclosed within double-quote (\") characters are allowed to contain new lines and column delimiters. Double-quote characters within a quoted field must be escaped with another double-quote.  Specifying `dims` as a tuple of the expected rows and columns (including header, if any) may speed up reading of large files.  If `comments` is `true`, lines beginning with `comment_char` and text following `comment_char` in any line are ignored.\n",
       "\n",
       "# Examples\n",
       "\n",
       "```jldoctest\n",
       "julia> using DelimitedFiles\n",
       "\n",
       "julia> x = [1; 2; 3; 4];\n",
       "\n",
       "julia> y = [5; 6; 7; 8];\n",
       "\n",
       "julia> open(\"delim_file.txt\", \"w\") do io\n",
       "           writedlm(io, [x y])\n",
       "       end\n",
       "\n",
       "julia> readdlm(\"delim_file.txt\", '\\t', Int, '\\n')\n",
       "4×2 Array{Int64,2}:\n",
       " 1  5\n",
       " 2  6\n",
       " 3  7\n",
       " 4  8\n",
       "```\n"
      ],
      "text/plain": [
       "\u001b[36m  readdlm(source, T::Type; options...)\u001b[39m\n",
       "\n",
       "  The columns are assumed to be separated by one or more whitespaces. The end\n",
       "  of line delimiter is taken as \u001b[36m\\n\u001b[39m.\n",
       "\n",
       "\u001b[1m  Examples\u001b[22m\n",
       "\u001b[1m  ≡≡≡≡≡≡≡≡≡≡\u001b[22m\n",
       "\n",
       "\u001b[36m  julia> using DelimitedFiles\u001b[39m\n",
       "\u001b[36m  \u001b[39m\n",
       "\u001b[36m  julia> x = [1; 2; 3; 4];\u001b[39m\n",
       "\u001b[36m  \u001b[39m\n",
       "\u001b[36m  julia> y = [5; 6; 7; 8];\u001b[39m\n",
       "\u001b[36m  \u001b[39m\n",
       "\u001b[36m  julia> open(\"delim_file.txt\", \"w\") do io\u001b[39m\n",
       "\u001b[36m             writedlm(io, [x y])\u001b[39m\n",
       "\u001b[36m         end;\u001b[39m\n",
       "\u001b[36m  \u001b[39m\n",
       "\u001b[36m  julia> readdlm(\"delim_file.txt\", Int64)\u001b[39m\n",
       "\u001b[36m  4×2 Array{Int64,2}:\u001b[39m\n",
       "\u001b[36m   1  5\u001b[39m\n",
       "\u001b[36m   2  6\u001b[39m\n",
       "\u001b[36m   3  7\u001b[39m\n",
       "\u001b[36m   4  8\u001b[39m\n",
       "\u001b[36m  \u001b[39m\n",
       "\u001b[36m  julia> readdlm(\"delim_file.txt\", Float64)\u001b[39m\n",
       "\u001b[36m  4×2 Array{Float64,2}:\u001b[39m\n",
       "\u001b[36m   1.0  5.0\u001b[39m\n",
       "\u001b[36m   2.0  6.0\u001b[39m\n",
       "\u001b[36m   3.0  7.0\u001b[39m\n",
       "\u001b[36m   4.0  8.0\u001b[39m\n",
       "\u001b[36m  \u001b[39m\n",
       "\u001b[36m  julia> rm(\"delim_file.txt\")\u001b[39m\n",
       "\n",
       "  ────────────────────────────────────────────────────────────────────────────\n",
       "\n",
       "\u001b[36m  readdlm(source, delim::AbstractChar, T::Type; options...)\u001b[39m\n",
       "\n",
       "  The end of line delimiter is taken as \u001b[36m\\n\u001b[39m.\n",
       "\n",
       "\u001b[1m  Examples\u001b[22m\n",
       "\u001b[1m  ≡≡≡≡≡≡≡≡≡≡\u001b[22m\n",
       "\n",
       "\u001b[36m  julia> using DelimitedFiles\u001b[39m\n",
       "\u001b[36m  \u001b[39m\n",
       "\u001b[36m  julia> x = [1; 2; 3; 4];\u001b[39m\n",
       "\u001b[36m  \u001b[39m\n",
       "\u001b[36m  julia> y = [1.1; 2.2; 3.3; 4.4];\u001b[39m\n",
       "\u001b[36m  \u001b[39m\n",
       "\u001b[36m  julia> open(\"delim_file.txt\", \"w\") do io\u001b[39m\n",
       "\u001b[36m             writedlm(io, [x y], ',')\u001b[39m\n",
       "\u001b[36m         end;\u001b[39m\n",
       "\u001b[36m  \u001b[39m\n",
       "\u001b[36m  julia> readdlm(\"delim_file.txt\", ',', Float64)\u001b[39m\n",
       "\u001b[36m  4×2 Array{Float64,2}:\u001b[39m\n",
       "\u001b[36m   1.0  1.1\u001b[39m\n",
       "\u001b[36m   2.0  2.2\u001b[39m\n",
       "\u001b[36m   3.0  3.3\u001b[39m\n",
       "\u001b[36m   4.0  4.4\u001b[39m\n",
       "\u001b[36m  \u001b[39m\n",
       "\u001b[36m  julia> rm(\"delim_file.txt\")\u001b[39m\n",
       "\n",
       "  ────────────────────────────────────────────────────────────────────────────\n",
       "\n",
       "\u001b[36m  readdlm(source; options...)\u001b[39m\n",
       "\n",
       "  The columns are assumed to be separated by one or more whitespaces. The end\n",
       "  of line delimiter is taken as \u001b[36m\\n\u001b[39m. If all data is numeric, the result will be\n",
       "  a numeric array. If some elements cannot be parsed as numbers, a\n",
       "  heterogeneous array of numbers and strings is returned.\n",
       "\n",
       "\u001b[1m  Examples\u001b[22m\n",
       "\u001b[1m  ≡≡≡≡≡≡≡≡≡≡\u001b[22m\n",
       "\n",
       "\u001b[36m  julia> using DelimitedFiles\u001b[39m\n",
       "\u001b[36m  \u001b[39m\n",
       "\u001b[36m  julia> x = [1; 2; 3; 4];\u001b[39m\n",
       "\u001b[36m  \u001b[39m\n",
       "\u001b[36m  julia> y = [\"a\"; \"b\"; \"c\"; \"d\"];\u001b[39m\n",
       "\u001b[36m  \u001b[39m\n",
       "\u001b[36m  julia> open(\"delim_file.txt\", \"w\") do io\u001b[39m\n",
       "\u001b[36m             writedlm(io, [x y])\u001b[39m\n",
       "\u001b[36m         end;\u001b[39m\n",
       "\u001b[36m  \u001b[39m\n",
       "\u001b[36m  julia> readdlm(\"delim_file.txt\")\u001b[39m\n",
       "\u001b[36m  4×2 Array{Any,2}:\u001b[39m\n",
       "\u001b[36m   1  \"a\"\u001b[39m\n",
       "\u001b[36m   2  \"b\"\u001b[39m\n",
       "\u001b[36m   3  \"c\"\u001b[39m\n",
       "\u001b[36m   4  \"d\"\u001b[39m\n",
       "\u001b[36m  \u001b[39m\n",
       "\u001b[36m  julia> rm(\"delim_file.txt\")\u001b[39m\n",
       "\n",
       "  ────────────────────────────────────────────────────────────────────────────\n",
       "\n",
       "\u001b[36m  readdlm(source, delim::AbstractChar; options...)\u001b[39m\n",
       "\n",
       "  The end of line delimiter is taken as \u001b[36m\\n\u001b[39m. If all data is numeric, the result\n",
       "  will be a numeric array. If some elements cannot be parsed as numbers, a\n",
       "  heterogeneous array of numbers and strings is returned.\n",
       "\n",
       "\u001b[1m  Examples\u001b[22m\n",
       "\u001b[1m  ≡≡≡≡≡≡≡≡≡≡\u001b[22m\n",
       "\n",
       "\u001b[36m  julia> using DelimitedFiles\u001b[39m\n",
       "\u001b[36m  \u001b[39m\n",
       "\u001b[36m  julia> x = [1; 2; 3; 4];\u001b[39m\n",
       "\u001b[36m  \u001b[39m\n",
       "\u001b[36m  julia> y = [1.1; 2.2; 3.3; 4.4];\u001b[39m\n",
       "\u001b[36m  \u001b[39m\n",
       "\u001b[36m  julia> open(\"delim_file.txt\", \"w\") do io\u001b[39m\n",
       "\u001b[36m             writedlm(io, [x y], ',')\u001b[39m\n",
       "\u001b[36m         end;\u001b[39m\n",
       "\u001b[36m  \u001b[39m\n",
       "\u001b[36m  julia> readdlm(\"delim_file.txt\", ',')\u001b[39m\n",
       "\u001b[36m  4×2 Array{Float64,2}:\u001b[39m\n",
       "\u001b[36m   1.0  1.1\u001b[39m\n",
       "\u001b[36m   2.0  2.2\u001b[39m\n",
       "\u001b[36m   3.0  3.3\u001b[39m\n",
       "\u001b[36m   4.0  4.4\u001b[39m\n",
       "\u001b[36m  \u001b[39m\n",
       "\u001b[36m  julia> rm(\"delim_file.txt\")\u001b[39m\n",
       "\u001b[36m  \u001b[39m\n",
       "\u001b[36m  julia> z = [\"a\"; \"b\"; \"c\"; \"d\"];\u001b[39m\n",
       "\u001b[36m  \u001b[39m\n",
       "\u001b[36m  julia> open(\"delim_file.txt\", \"w\") do io\u001b[39m\n",
       "\u001b[36m             writedlm(io, [x z], ',')\u001b[39m\n",
       "\u001b[36m         end;\u001b[39m\n",
       "\u001b[36m  \u001b[39m\n",
       "\u001b[36m  julia> readdlm(\"delim_file.txt\", ',')\u001b[39m\n",
       "\u001b[36m  4×2 Array{Any,2}:\u001b[39m\n",
       "\u001b[36m   1  \"a\"\u001b[39m\n",
       "\u001b[36m   2  \"b\"\u001b[39m\n",
       "\u001b[36m   3  \"c\"\u001b[39m\n",
       "\u001b[36m   4  \"d\"\u001b[39m\n",
       "\u001b[36m  \u001b[39m\n",
       "\u001b[36m  julia> rm(\"delim_file.txt\")\u001b[39m\n",
       "\n",
       "  ────────────────────────────────────────────────────────────────────────────\n",
       "\n",
       "\u001b[36m  readdlm(source, delim::AbstractChar, eol::AbstractChar; options...)\u001b[39m\n",
       "\n",
       "  If all data is numeric, the result will be a numeric array. If some elements\n",
       "  cannot be parsed as numbers, a heterogeneous array of numbers and strings is\n",
       "  returned.\n",
       "\n",
       "  ────────────────────────────────────────────────────────────────────────────\n",
       "\n",
       "\u001b[36m  readdlm(source, delim::AbstractChar, T::Type, eol::AbstractChar; header=false, skipstart=0, skipblanks=true, use_mmap, quotes=true, dims, comments=false, comment_char='#')\u001b[39m\n",
       "\n",
       "  Read a matrix from the source where each line (separated by \u001b[36meol\u001b[39m) gives one\n",
       "  row, with elements separated by the given delimiter. The source can be a\n",
       "  text file, stream or byte array. Memory mapped files can be used by passing\n",
       "  the byte array representation of the mapped segment as source.\n",
       "\n",
       "  If \u001b[36mT\u001b[39m is a numeric type, the result is an array of that type, with any\n",
       "  non-numeric elements as \u001b[36mNaN\u001b[39m for floating-point types, or zero. Other useful\n",
       "  values of \u001b[36mT\u001b[39m include \u001b[36mString\u001b[39m, \u001b[36mAbstractString\u001b[39m, and \u001b[36mAny\u001b[39m.\n",
       "\n",
       "  If \u001b[36mheader\u001b[39m is \u001b[36mtrue\u001b[39m, the first row of data will be read as header and the\n",
       "  tuple \u001b[36m(data_cells, header_cells)\u001b[39m is returned instead of only \u001b[36mdata_cells\u001b[39m.\n",
       "\n",
       "  Specifying \u001b[36mskipstart\u001b[39m will ignore the corresponding number of initial lines\n",
       "  from the input.\n",
       "\n",
       "  If \u001b[36mskipblanks\u001b[39m is \u001b[36mtrue\u001b[39m, blank lines in the input will be ignored.\n",
       "\n",
       "  If \u001b[36muse_mmap\u001b[39m is \u001b[36mtrue\u001b[39m, the file specified by \u001b[36msource\u001b[39m is memory mapped for\n",
       "  potential speedups. Default is \u001b[36mtrue\u001b[39m except on Windows. On Windows, you may\n",
       "  want to specify \u001b[36mtrue\u001b[39m if the file is large, and is only read once and not\n",
       "  written to.\n",
       "\n",
       "  If \u001b[36mquotes\u001b[39m is \u001b[36mtrue\u001b[39m, columns enclosed within double-quote (\") characters are\n",
       "  allowed to contain new lines and column delimiters. Double-quote characters\n",
       "  within a quoted field must be escaped with another double-quote. Specifying\n",
       "  \u001b[36mdims\u001b[39m as a tuple of the expected rows and columns (including header, if any)\n",
       "  may speed up reading of large files. If \u001b[36mcomments\u001b[39m is \u001b[36mtrue\u001b[39m, lines beginning\n",
       "  with \u001b[36mcomment_char\u001b[39m and text following \u001b[36mcomment_char\u001b[39m in any line are ignored.\n",
       "\n",
       "\u001b[1m  Examples\u001b[22m\n",
       "\u001b[1m  ≡≡≡≡≡≡≡≡≡≡\u001b[22m\n",
       "\n",
       "\u001b[36m  julia> using DelimitedFiles\u001b[39m\n",
       "\u001b[36m  \u001b[39m\n",
       "\u001b[36m  julia> x = [1; 2; 3; 4];\u001b[39m\n",
       "\u001b[36m  \u001b[39m\n",
       "\u001b[36m  julia> y = [5; 6; 7; 8];\u001b[39m\n",
       "\u001b[36m  \u001b[39m\n",
       "\u001b[36m  julia> open(\"delim_file.txt\", \"w\") do io\u001b[39m\n",
       "\u001b[36m             writedlm(io, [x y])\u001b[39m\n",
       "\u001b[36m         end\u001b[39m\n",
       "\u001b[36m  \u001b[39m\n",
       "\u001b[36m  julia> readdlm(\"delim_file.txt\", '\\t', Int, '\\n')\u001b[39m\n",
       "\u001b[36m  4×2 Array{Int64,2}:\u001b[39m\n",
       "\u001b[36m   1  5\u001b[39m\n",
       "\u001b[36m   2  6\u001b[39m\n",
       "\u001b[36m   3  7\u001b[39m\n",
       "\u001b[36m   4  8\u001b[39m"
      ]
     },
     "execution_count": 7,
     "metadata": {},
     "output_type": "execute_result"
    }
   ],
   "source": [
    "?readdlm"
   ]
  },
  {
   "cell_type": "code",
   "execution_count": 9,
   "metadata": {
    "scrolled": true
   },
   "outputs": [
    {
     "data": {
      "text/plain": [
       "(Any[\"A\" 14.51 … \"CH\" 2017; \"B\" 24.96 … \"D\" 2016; … ; \"D\" 34.65 … \"I\" 2017; \"E\" 15.49 … \"USA\" 2018], AbstractString[\"line\" \"trait1\" … \"location\" \"year\"])"
      ]
     },
     "execution_count": 9,
     "metadata": {},
     "output_type": "execute_result"
    }
   ],
   "source": [
    "using DelimitedFiles\n",
    "myData = readdlm(\"exampleData.csv\", ';', Any, '\\r', header=true)"
   ]
  },
  {
   "cell_type": "code",
   "execution_count": 11,
   "metadata": {
    "scrolled": true
   },
   "outputs": [
    {
     "data": {
      "text/plain": [
       "5×6 Array{Any,2}:\n",
       " \"A\"  14.51  164.26  54.92  \"CH\"   2017\n",
       " \"B\"  24.96  554.82  75.18  \"D\"    2016\n",
       " \"C\"  24.39   94.43  94.8   \"F\"    2015\n",
       " \"D\"  34.65  915.16  45.62  \"I\"    2017\n",
       " \"E\"  15.49  725.89  26.24  \"USA\"  2018"
      ]
     },
     "execution_count": 11,
     "metadata": {},
     "output_type": "execute_result"
    }
   ],
   "source": [
    "myData[1]"
   ]
  },
  {
   "cell_type": "code",
   "execution_count": 13,
   "metadata": {},
   "outputs": [
    {
     "data": {
      "text/plain": [
       "1×6 Array{AbstractString,2}:\n",
       " \"line\"  \"trait1\"  \"trait2\"  \"trait3\"  \"location\"  \"year\""
      ]
     },
     "execution_count": 13,
     "metadata": {},
     "output_type": "execute_result"
    }
   ],
   "source": [
    "myData[2]"
   ]
  },
  {
   "cell_type": "code",
   "execution_count": 15,
   "metadata": {},
   "outputs": [
    {
     "ename": "SystemError",
     "evalue": "SystemError: opening file exampleData.reformatted: Operation not permitted",
     "output_type": "error",
     "traceback": [
      "SystemError: opening file exampleData.reformatted: Operation not permitted",
      "",
      "Stacktrace:",
      " [1] #systemerror#39(::Nothing, ::Function, ::String, ::Bool) at ./error.jl:106",
      " [2] systemerror at ./error.jl:106 [inlined]",
      " [3] #open#293(::Nothing, ::Nothing, ::Nothing, ::Bool, ::Nothing, ::Function, ::String) at ./iostream.jl:283",
      " [4] #open at ./none:0 [inlined]",
      " [5] open(::String, ::String) at ./iostream.jl:339",
      " [6] top-level scope at In[15]:1"
     ]
    }
   ],
   "source": [
    "output = open(\"exampleData.reformatted\", \"w\")"
   ]
  },
  {
   "cell_type": "code",
   "execution_count": 17,
   "metadata": {},
   "outputs": [
    {
     "ename": "UndefVarError",
     "evalue": "UndefVarError: output not defined",
     "output_type": "error",
     "traceback": [
      "UndefVarError: output not defined",
      "",
      "Stacktrace:",
      " [1] top-level scope at In[17]:1"
     ]
    }
   ],
   "source": [
    "writedlm(output, [myData[2]; myData[1]])\n",
    "close(output)"
   ]
  },
  {
   "cell_type": "code",
   "execution_count": 19,
   "metadata": {},
   "outputs": [
    {
     "ename": "SystemError",
     "evalue": "SystemError: opening file exampleData.reformatted: Operation not permitted",
     "output_type": "error",
     "traceback": [
      "SystemError: opening file exampleData.reformatted: Operation not permitted",
      "",
      "Stacktrace:",
      " [1] #systemerror#39(::Nothing, ::Function, ::String, ::Bool) at ./error.jl:106",
      " [2] systemerror at ./error.jl:106 [inlined]",
      " [3] #open#293(::Nothing, ::Nothing, ::Nothing, ::Nothing, ::Bool, ::Function, ::String) at ./iostream.jl:283",
      " [4] #open at ./none:0 [inlined]",
      " [5] open(::String, ::String) at ./iostream.jl:339",
      " [6] top-level scope at In[19]:1"
     ]
    }
   ],
   "source": [
    "output = open(\"exampleData.reformatted\", \"a\") \n",
    "writedlm(output, myData[1])\n",
    "close(output)"
   ]
  },
  {
   "cell_type": "code",
   "execution_count": 21,
   "metadata": {},
   "outputs": [
    {
     "name": "stdout",
     "output_type": "stream",
     "text": [
      "\u001b[32m\u001b[1m Resolving\u001b[22m\u001b[39m package versions...\n",
      "\u001b[32m\u001b[1m  Updating\u001b[22m\u001b[39m `/opt/julia/environments/v1.0/Project.toml`\n",
      "\u001b[90m [no changes]\u001b[39m\n",
      "\u001b[32m\u001b[1m  Updating\u001b[22m\u001b[39m `/opt/julia/environments/v1.0/Manifest.toml`\n",
      "\u001b[90m [no changes]\u001b[39m\n"
     ]
    }
   ],
   "source": [
    "Pkg.add(\"CSV\")\n",
    "using CSV"
   ]
  },
  {
   "cell_type": "code",
   "execution_count": 23,
   "metadata": {},
   "outputs": [
    {
     "data": {
      "text/html": [
       "<table class=\"data-frame\"><thead><tr><th></th><th>line</th><th>trait1</th><th>trait2</th><th>trait3</th><th>location</th><th>year</th></tr><tr><th></th><th>String⍰</th><th>Float64⍰</th><th>Float64⍰</th><th>Float64⍰</th><th>String⍰</th><th>Int64⍰</th></tr></thead><tbody><tr><th>1</th><td>A</td><td>14.51</td><td>164.26</td><td>54.92</td><td>CH</td><td>2017</td></tr><tr><th>2</th><td>B</td><td>24.96</td><td>554.82</td><td>75.18</td><td>D</td><td>2016</td></tr><tr><th>3</th><td>C</td><td>24.39</td><td>94.43</td><td>94.8</td><td>F</td><td>2015</td></tr><tr><th>4</th><td>D</td><td>34.65</td><td>915.16</td><td>45.62</td><td>I</td><td>2017</td></tr><tr><th>5</th><td>E</td><td>15.49</td><td>725.89</td><td>26.24</td><td>USA</td><td>2018</td></tr></tbody></table>"
      ],
      "text/latex": [
       "\\begin{tabular}{r|cccccc}\n",
       "\t& line & trait1 & trait2 & trait3 & location & year\\\\\n",
       "\t\\hline\n",
       "\t1 & A & 14.51 & 164.26 & 54.92 & CH & 2017 \\\\\n",
       "\t2 & B & 24.96 & 554.82 & 75.18 & D & 2016 \\\\\n",
       "\t3 & C & 24.39 & 94.43 & 94.8 & F & 2015 \\\\\n",
       "\t4 & D & 34.65 & 915.16 & 45.62 & I & 2017 \\\\\n",
       "\t5 & E & 15.49 & 725.89 & 26.24 & USA & 2018 \\\\\n",
       "\\end{tabular}\n"
      ],
      "text/plain": [
       "5×6 DataFrame\n",
       "│ Row │ line    │ trait1   │ trait2   │ trait3   │ location │ year   │\n",
       "│     │ \u001b[90mString⍰\u001b[39m │ \u001b[90mFloat64⍰\u001b[39m │ \u001b[90mFloat64⍰\u001b[39m │ \u001b[90mFloat64⍰\u001b[39m │ \u001b[90mString⍰\u001b[39m  │ \u001b[90mInt64⍰\u001b[39m │\n",
       "├─────┼─────────┼──────────┼──────────┼──────────┼──────────┼────────┤\n",
       "│ 1   │ A       │ 14.51    │ 164.26   │ 54.92    │ CH       │ 2017   │\n",
       "│ 2   │ B       │ 24.96    │ 554.82   │ 75.18    │ D        │ 2016   │\n",
       "│ 3   │ C       │ 24.39    │ 94.43    │ 94.8     │ F        │ 2015   │\n",
       "│ 4   │ D       │ 34.65    │ 915.16   │ 45.62    │ I        │ 2017   │\n",
       "│ 5   │ E       │ 15.49    │ 725.89   │ 26.24    │ USA      │ 2018   │"
      ]
     },
     "execution_count": 23,
     "metadata": {},
     "output_type": "execute_result"
    }
   ],
   "source": [
    "myCSVdata = CSV.read(\"exampleData.csv\", delim=';',header=true)"
   ]
  },
  {
   "cell_type": "code",
   "execution_count": 25,
   "metadata": {},
   "outputs": [
    {
     "data": {
      "text/plain": [
       "DataFrame"
      ]
     },
     "execution_count": 25,
     "metadata": {},
     "output_type": "execute_result"
    }
   ],
   "source": [
    "typeof(myCSVdata)"
   ]
  },
  {
   "cell_type": "code",
   "execution_count": 27,
   "metadata": {},
   "outputs": [
    {
     "ename": "SystemError",
     "evalue": "SystemError: opening file exampleData.txtReformatted: Operation not permitted",
     "output_type": "error",
     "traceback": [
      "SystemError: opening file exampleData.txtReformatted: Operation not permitted",
      "",
      "Stacktrace:",
      " [1] #systemerror#39(::Nothing, ::Function, ::String, ::Bool) at ./error.jl:106",
      " [2] systemerror at ./error.jl:106 [inlined]",
      " [3] #open#293(::Nothing, ::Nothing, ::Nothing, ::Bool, ::Nothing, ::Function, ::String) at ./iostream.jl:283",
      " [4] #open at ./none:0 [inlined]",
      " [5] open(::String, ::String) at ./iostream.jl:339",
      " [6] #open#294(::Base.Iterators.Pairs{Union{},Union{},Tuple{},NamedTuple{(),Tuple{}}}, ::Function, ::getfield(CSV, Symbol(\"##49#50\")){getfield(CSV, Symbol(\"##56#58\")){Char,Char,String,Nothing,Bool,Tables.Schema{(:line, :trait1, :trait2, :trait3, :location, :year),Tuple{Union{Missing, String},Union{Missing, Float64},Union{Missing, Float64},Union{Missing, Float64},Union{Missing, String},Union{Missing, Int64}}},Tables.RowIterator{NamedTuple{(:line, :trait1, :trait2, :trait3, :location, :year),Tuple{Array{Union{Missing, String},1},Array{Union{Missing, Float64},1},Array{Union{Missing, Float64},1},Array{Union{Missing, Float64},1},Array{Union{Missing, String},1},Array{Union{Missing, Int64},1}}}},UInt8,UInt8,UInt8,NTuple{6,Symbol},Int64}}, ::String, ::Vararg{String,N} where N) at ./iostream.jl:367",
      " [7] open at ./iostream.jl:367 [inlined]",
      " [8] with(::getfield(CSV, Symbol(\"##56#58\")){Char,Char,String,Nothing,Bool,Tables.Schema{(:line, :trait1, :trait2, :trait3, :location, :year),Tuple{Union{Missing, String},Union{Missing, Float64},Union{Missing, Float64},Union{Missing, Float64},Union{Missing, String},Union{Missing, Int64}}},Tables.RowIterator{NamedTuple{(:line, :trait1, :trait2, :trait3, :location, :year),Tuple{Array{Union{Missing, String},1},Array{Union{Missing, Float64},1},Array{Union{Missing, Float64},1},Array{Union{Missing, Float64},1},Array{Union{Missing, String},1},Array{Union{Missing, Int64},1}}}},UInt8,UInt8,UInt8,NTuple{6,Symbol},Int64}, ::String, ::Bool) at /opt/julia/packages/CSV/eWuJV/src/write.jl:29",
      " [9] #write#55(::Char, ::Char, ::Nothing, ::Nothing, ::Char, ::String, ::Nothing, ::Bool, ::Bool, ::Array{String,1}, ::Base.Iterators.Pairs{Union{},Union{},Tuple{},NamedTuple{(),Tuple{}}}, ::typeof(CSV.write), ::Tables.Schema{(:line, :trait1, :trait2, :trait3, :location, :year),Tuple{Union{Missing, String},Union{Missing, Float64},Union{Missing, Float64},Union{Missing, Float64},Union{Missing, String},Union{Missing, Int64}}}, ::Tables.RowIterator{NamedTuple{(:line, :trait1, :trait2, :trait3, :location, :year),Tuple{Array{Union{Missing, String},1},Array{Union{Missing, Float64},1},Array{Union{Missing, Float64},1},Array{Union{Missing, Float64},1},Array{Union{Missing, String},1},Array{Union{Missing, Int64},1}}}}, ::String) at /opt/julia/packages/CSV/eWuJV/src/write.jl:142",
      " [10] (::getfield(CSV, Symbol(\"#kw##write\")))(::NamedTuple{(:delim,),Tuple{Char}}, ::typeof(CSV.write), ::Tables.Schema{(:line, :trait1, :trait2, :trait3, :location, :year),Tuple{Union{Missing, String},Union{Missing, Float64},Union{Missing, Float64},Union{Missing, Float64},Union{Missing, String},Union{Missing, Int64}}}, ::Tables.RowIterator{NamedTuple{(:line, :trait1, :trait2, :trait3, :location, :year),Tuple{Array{Union{Missing, String},1},Array{Union{Missing, Float64},1},Array{Union{Missing, Float64},1},Array{Union{Missing, Float64},1},Array{Union{Missing, String},1},Array{Union{Missing, Int64},1}}}}, ::String) at ./none:0",
      " [11] #write#54(::Base.Iterators.Pairs{Symbol,Char,Tuple{Symbol},NamedTuple{(:delim,),Tuple{Char}}}, ::Function, ::String, ::DataFrame) at /opt/julia/packages/CSV/eWuJV/src/write.jl:114",
      " [12] (::getfield(CSV, Symbol(\"#kw##write\")))(::NamedTuple{(:delim,),Tuple{Char}}, ::typeof(CSV.write), ::String, ::DataFrame) at ./none:0",
      " [13] top-level scope at In[27]:1"
     ]
    }
   ],
   "source": [
    "CSV.write(\"exampleData.txtReformatted\",myCSVdata, delim='\\t')"
   ]
  },
  {
   "cell_type": "code",
   "execution_count": 29,
   "metadata": {
    "scrolled": true
   },
   "outputs": [
    {
     "data": {
      "text/html": [
       "<table class=\"data-frame\"><thead><tr><th></th><th>line</th><th>trait1</th><th>trait2</th><th>trait3</th><th>location</th><th>year</th></tr><tr><th></th><th>String⍰</th><th>Float64⍰</th><th>Float64⍰</th><th>Float64⍰</th><th>String⍰</th><th>Int64⍰</th></tr></thead><tbody><tr><th>1</th><td>A</td><td>14.51</td><td>164.26</td><td>54.92</td><td>CH</td><td>2017</td></tr><tr><th>2</th><td>B</td><td>24.96</td><td>554.82</td><td>75.18</td><td>D</td><td>2016</td></tr><tr><th>3</th><td>C</td><td>24.39</td><td>94.43</td><td>94.8</td><td>F</td><td>2015</td></tr><tr><th>4</th><td>D</td><td>34.65</td><td>915.16</td><td>45.62</td><td>I</td><td>2017</td></tr><tr><th>5</th><td>E</td><td>15.49</td><td>725.89</td><td>26.24</td><td>USA</td><td>2018</td></tr></tbody></table>"
      ],
      "text/latex": [
       "\\begin{tabular}{r|cccccc}\n",
       "\t& line & trait1 & trait2 & trait3 & location & year\\\\\n",
       "\t\\hline\n",
       "\t1 & A & 14.51 & 164.26 & 54.92 & CH & 2017 \\\\\n",
       "\t2 & B & 24.96 & 554.82 & 75.18 & D & 2016 \\\\\n",
       "\t3 & C & 24.39 & 94.43 & 94.8 & F & 2015 \\\\\n",
       "\t4 & D & 34.65 & 915.16 & 45.62 & I & 2017 \\\\\n",
       "\t5 & E & 15.49 & 725.89 & 26.24 & USA & 2018 \\\\\n",
       "\\end{tabular}\n"
      ],
      "text/plain": [
       "5×6 DataFrame\n",
       "│ Row │ line    │ trait1   │ trait2   │ trait3   │ location │ year   │\n",
       "│     │ \u001b[90mString⍰\u001b[39m │ \u001b[90mFloat64⍰\u001b[39m │ \u001b[90mFloat64⍰\u001b[39m │ \u001b[90mFloat64⍰\u001b[39m │ \u001b[90mString⍰\u001b[39m  │ \u001b[90mInt64⍰\u001b[39m │\n",
       "├─────┼─────────┼──────────┼──────────┼──────────┼──────────┼────────┤\n",
       "│ 1   │ A       │ 14.51    │ 164.26   │ 54.92    │ CH       │ 2017   │\n",
       "│ 2   │ B       │ 24.96    │ 554.82   │ 75.18    │ D        │ 2016   │\n",
       "│ 3   │ C       │ 24.39    │ 94.43    │ 94.8     │ F        │ 2015   │\n",
       "│ 4   │ D       │ 34.65    │ 915.16   │ 45.62    │ I        │ 2017   │\n",
       "│ 5   │ E       │ 15.49    │ 725.89   │ 26.24    │ USA      │ 2018   │"
      ]
     },
     "execution_count": 29,
     "metadata": {},
     "output_type": "execute_result"
    }
   ],
   "source": [
    "myDF = readtable(\"exampleData.csv\", separator=';', header=true)"
   ]
  },
  {
   "cell_type": "code",
   "execution_count": 31,
   "metadata": {},
   "outputs": [
    {
     "data": {
      "text/latex": [
       "\\begin{verbatim}\n",
       "CSV.write(file::Union{String, IO}, file; kwargs...) => file\n",
       "table |> CSV.write(file::Union{String, IO}; kwargs...) => file\n",
       "\\end{verbatim}\n",
       "Write a \\href{https://github.com/JuliaData/Tables.jl}{Tables.jl interface input} to a csv file, given as an \\texttt{IO} argument or String representing the file name to write to.\n",
       "\n",
       "Keyword arguments include:\n",
       "\n",
       "\\begin{itemize}\n",
       "\\item \\texttt{delim::Union\\{Char, String\\}=','}: a character or string to print out as the file's delimiter\n",
       "\n",
       "\n",
       "\\item \\texttt{quotechar::Char='\"'}: character to use for quoting text fields that may contain delimiters or newlines\n",
       "\n",
       "\n",
       "\\item \\texttt{openquotechar::Char}: instead of \\texttt{quotechar}, use \\texttt{openquotechar} and \\texttt{closequotechar} to support different starting and ending quote characters\n",
       "\n",
       "\n",
       "\\item \\texttt{escapechar::Char='{\\textbackslash}'}: character used to escape quote characters in a text field\n",
       "\n",
       "\n",
       "\\item \\texttt{missingstring::String=\"\"}: string to print \n",
       "\n",
       "\n",
       "\\item \\texttt{dateformat=Dates.default\\_format(T)}: the date format string to use for printing out Date \\& DateTime columns\n",
       "\n",
       "\n",
       "\\item \\texttt{append=false}: whether to append writing to an existing file/IO, if \\texttt{true}, it will not write column names by default\n",
       "\n",
       "\n",
       "\\item \\texttt{writeheader=!append}: whether to write an initial row of delimited column names, not written by default if appending\n",
       "\n",
       "\n",
       "\\item \\texttt{header}: pass a list of column names (Symbols or Strings) to use instead of the column names of the input table\n",
       "\n",
       "\\end{itemize}\n"
      ],
      "text/markdown": [
       "```\n",
       "CSV.write(file::Union{String, IO}, file; kwargs...) => file\n",
       "table |> CSV.write(file::Union{String, IO}; kwargs...) => file\n",
       "```\n",
       "\n",
       "Write a [Tables.jl interface input](https://github.com/JuliaData/Tables.jl) to a csv file, given as an `IO` argument or String representing the file name to write to.\n",
       "\n",
       "Keyword arguments include:\n",
       "\n",
       "  * `delim::Union{Char, String}=','`: a character or string to print out as the file's delimiter\n",
       "  * `quotechar::Char='\"'`: character to use for quoting text fields that may contain delimiters or newlines\n",
       "  * `openquotechar::Char`: instead of `quotechar`, use `openquotechar` and `closequotechar` to support different starting and ending quote characters\n",
       "  * `escapechar::Char='\\'`: character used to escape quote characters in a text field\n",
       "  * `missingstring::String=\"\"`: string to print\n",
       "  * `dateformat=Dates.default_format(T)`: the date format string to use for printing out Date & DateTime columns\n",
       "  * `append=false`: whether to append writing to an existing file/IO, if `true`, it will not write column names by default\n",
       "  * `writeheader=!append`: whether to write an initial row of delimited column names, not written by default if appending\n",
       "  * `header`: pass a list of column names (Symbols or Strings) to use instead of the column names of the input table\n"
      ],
      "text/plain": [
       "\u001b[36m  CSV.write(file::Union{String, IO}, file; kwargs...) => file\u001b[39m\n",
       "\u001b[36m  table |> CSV.write(file::Union{String, IO}; kwargs...) => file\u001b[39m\n",
       "\n",
       "  Write a Tables.jl interface input (https://github.com/JuliaData/Tables.jl)\n",
       "  to a csv file, given as an \u001b[36mIO\u001b[39m argument or String representing the file name\n",
       "  to write to.\n",
       "\n",
       "  Keyword arguments include:\n",
       "\n",
       "    •    \u001b[36mdelim::Union{Char, String}=','\u001b[39m: a character or string to print out\n",
       "        as the file's delimiter\n",
       "\n",
       "    •    \u001b[36mquotechar::Char='\"'\u001b[39m: character to use for quoting text fields that\n",
       "        may contain delimiters or newlines\n",
       "\n",
       "    •    \u001b[36mopenquotechar::Char\u001b[39m: instead of \u001b[36mquotechar\u001b[39m, use \u001b[36mopenquotechar\u001b[39m and\n",
       "        \u001b[36mclosequotechar\u001b[39m to support different starting and ending quote\n",
       "        characters\n",
       "\n",
       "    •    \u001b[36mescapechar::Char='\\'\u001b[39m: character used to escape quote characters in\n",
       "        a text field\n",
       "\n",
       "    •    \u001b[36mmissingstring::String=\"\"\u001b[39m: string to print \n",
       "\n",
       "    •    \u001b[36mdateformat=Dates.default_format(T)\u001b[39m: the date format string to use\n",
       "        for printing out Date & DateTime columns\n",
       "\n",
       "    •    \u001b[36mappend=false\u001b[39m: whether to append writing to an existing file/IO, if\n",
       "        \u001b[36mtrue\u001b[39m, it will not write column names by default\n",
       "\n",
       "    •    \u001b[36mwriteheader=!append\u001b[39m: whether to write an initial row of delimited\n",
       "        column names, not written by default if appending\n",
       "\n",
       "    •    \u001b[36mheader\u001b[39m: pass a list of column names (Symbols or Strings) to use\n",
       "        instead of the column names of the input table"
      ]
     },
     "execution_count": 31,
     "metadata": {},
     "output_type": "execute_result"
    }
   ],
   "source": [
    "?CSV.write"
   ]
  },
  {
   "cell_type": "markdown",
   "metadata": {},
   "source": [
    "### Summary\n",
    "\n",
    "- readdlm(source, delim::AbstractChar, T::Type, eol::AbstractChar; header=false, skipstart=0, - skipblanks=true, use_mmap, quotes=true, dims, comments=false, comment_char='#')\n",
    "- writedlm(f, A, delim='\\t'; opts)\n",
    "- CSV.read(fullpath::Union{AbstractString,IO}, sink::Type{T}=DataFrame, args...; kwargs...)\n",
    "- CSV.write(file_or_io::Union{AbstractString,IO}, source::Type{T}, args...; kwargs...) \n",
    "- readtable(filename, [keyword options])\n",
    "\n",
    "https://docs.julialang.org/en/v1/stdlib/DelimitedFiles/index.html\n",
    "\n",
    "http://juliadata.github.io/CSV.jl/v0.1.1/\n",
    "\n"
   ]
  },
  {
   "cell_type": "markdown",
   "metadata": {},
   "source": [
    "## Dataframes"
   ]
  },
  {
   "cell_type": "code",
   "execution_count": 33,
   "metadata": {
    "scrolled": true
   },
   "outputs": [
    {
     "data": {
      "text/plain": [
       "6-element Array{Symbol,1}:\n",
       " :line    \n",
       " :trait1  \n",
       " :trait2  \n",
       " :trait3  \n",
       " :location\n",
       " :year    "
      ]
     },
     "execution_count": 33,
     "metadata": {},
     "output_type": "execute_result"
    }
   ],
   "source": [
    "names(myDF)"
   ]
  },
  {
   "cell_type": "code",
   "execution_count": 35,
   "metadata": {},
   "outputs": [
    {
     "data": {
      "text/plain": [
       "Symbol"
      ]
     },
     "execution_count": 35,
     "metadata": {},
     "output_type": "execute_result"
    }
   ],
   "source": [
    "typeof(:line)"
   ]
  },
  {
   "cell_type": "code",
   "execution_count": 37,
   "metadata": {},
   "outputs": [
    {
     "data": {
      "text/html": [
       "<table class=\"data-frame\"><thead><tr><th></th><th>line</th><th>trait1</th><th>trait2</th><th>trait3</th><th>location</th><th>year</th></tr><tr><th></th><th>String⍰</th><th>Float64⍰</th><th>Float64⍰</th><th>Float64⍰</th><th>String⍰</th><th>Int64⍰</th></tr></thead><tbody><tr><th>1</th><td>A</td><td>14.51</td><td>164.26</td><td>54.92</td><td>CH</td><td>2017</td></tr><tr><th>2</th><td>B</td><td>24.96</td><td>554.82</td><td>75.18</td><td>D</td><td>2016</td></tr><tr><th>3</th><td>C</td><td>24.39</td><td>94.43</td><td>94.8</td><td>F</td><td>2015</td></tr><tr><th>4</th><td>D</td><td>34.65</td><td>915.16</td><td>45.62</td><td>I</td><td>2017</td></tr><tr><th>5</th><td>E</td><td>15.49</td><td>725.89</td><td>26.24</td><td>USA</td><td>2018</td></tr></tbody></table>"
      ],
      "text/latex": [
       "\\begin{tabular}{r|cccccc}\n",
       "\t& line & trait1 & trait2 & trait3 & location & year\\\\\n",
       "\t\\hline\n",
       "\t1 & A & 14.51 & 164.26 & 54.92 & CH & 2017 \\\\\n",
       "\t2 & B & 24.96 & 554.82 & 75.18 & D & 2016 \\\\\n",
       "\t3 & C & 24.39 & 94.43 & 94.8 & F & 2015 \\\\\n",
       "\t4 & D & 34.65 & 915.16 & 45.62 & I & 2017 \\\\\n",
       "\t5 & E & 15.49 & 725.89 & 26.24 & USA & 2018 \\\\\n",
       "\\end{tabular}\n"
      ],
      "text/plain": [
       "5×6 DataFrame\n",
       "│ Row │ line    │ trait1   │ trait2   │ trait3   │ location │ year   │\n",
       "│     │ \u001b[90mString⍰\u001b[39m │ \u001b[90mFloat64⍰\u001b[39m │ \u001b[90mFloat64⍰\u001b[39m │ \u001b[90mFloat64⍰\u001b[39m │ \u001b[90mString⍰\u001b[39m  │ \u001b[90mInt64⍰\u001b[39m │\n",
       "├─────┼─────────┼──────────┼──────────┼──────────┼──────────┼────────┤\n",
       "│ 1   │ A       │ 14.51    │ 164.26   │ 54.92    │ CH       │ 2017   │\n",
       "│ 2   │ B       │ 24.96    │ 554.82   │ 75.18    │ D        │ 2016   │\n",
       "│ 3   │ C       │ 24.39    │ 94.43    │ 94.8     │ F        │ 2015   │\n",
       "│ 4   │ D       │ 34.65    │ 915.16   │ 45.62    │ I        │ 2017   │\n",
       "│ 5   │ E       │ 15.49    │ 725.89   │ 26.24    │ USA      │ 2018   │"
      ]
     },
     "execution_count": 37,
     "metadata": {},
     "output_type": "execute_result"
    }
   ],
   "source": [
    "head(myDF)"
   ]
  },
  {
   "cell_type": "code",
   "execution_count": 39,
   "metadata": {},
   "outputs": [
    {
     "data": {
      "text/plain": [
       "(5, 6)"
      ]
     },
     "execution_count": 39,
     "metadata": {},
     "output_type": "execute_result"
    }
   ],
   "source": [
    "size(myDF)"
   ]
  },
  {
   "cell_type": "code",
   "execution_count": 41,
   "metadata": {
    "scrolled": false
   },
   "outputs": [
    {
     "data": {
      "text/html": [
       "<table class=\"data-frame\"><thead><tr><th></th><th>variable</th><th>mean</th><th>min</th><th>median</th><th>max</th><th>nunique</th><th>nmissing</th><th>eltype</th></tr><tr><th></th><th>Symbol</th><th>Union…</th><th>Any</th><th>Union…</th><th>Any</th><th>Union…</th><th>Int64</th><th>DataType</th></tr></thead><tbody><tr><th>1</th><td>line</td><td></td><td>A</td><td></td><td>E</td><td>5</td><td>0</td><td>String</td></tr><tr><th>2</th><td>trait1</td><td>22.8</td><td>14.51</td><td>24.39</td><td>34.65</td><td></td><td>0</td><td>Float64</td></tr><tr><th>3</th><td>trait2</td><td>490.912</td><td>94.43</td><td>554.82</td><td>915.16</td><td></td><td>0</td><td>Float64</td></tr><tr><th>4</th><td>trait3</td><td>59.352</td><td>26.24</td><td>54.92</td><td>94.8</td><td></td><td>0</td><td>Float64</td></tr><tr><th>5</th><td>location</td><td></td><td>CH</td><td></td><td>USA</td><td>5</td><td>0</td><td>String</td></tr><tr><th>6</th><td>year</td><td>2016.6</td><td>2015</td><td>2017.0</td><td>2018</td><td></td><td>0</td><td>Int64</td></tr></tbody></table>"
      ],
      "text/latex": [
       "\\begin{tabular}{r|cccccccc}\n",
       "\t& variable & mean & min & median & max & nunique & nmissing & eltype\\\\\n",
       "\t\\hline\n",
       "\t1 & line &  & A &  & E & 5 & 0 & String \\\\\n",
       "\t2 & trait1 & 22.8 & 14.51 & 24.39 & 34.65 &  & 0 & Float64 \\\\\n",
       "\t3 & trait2 & 490.912 & 94.43 & 554.82 & 915.16 &  & 0 & Float64 \\\\\n",
       "\t4 & trait3 & 59.352 & 26.24 & 54.92 & 94.8 &  & 0 & Float64 \\\\\n",
       "\t5 & location &  & CH &  & USA & 5 & 0 & String \\\\\n",
       "\t6 & year & 2016.6 & 2015 & 2017.0 & 2018 &  & 0 & Int64 \\\\\n",
       "\\end{tabular}\n"
      ],
      "text/plain": [
       "6×8 DataFrame. Omitted printing of 1 columns\n",
       "│ Row │ variable │ mean    │ min   │ median │ max    │ nunique │ nmissing │\n",
       "│     │ \u001b[90mSymbol\u001b[39m   │ \u001b[90mUnion…\u001b[39m  │ \u001b[90mAny\u001b[39m   │ \u001b[90mUnion…\u001b[39m │ \u001b[90mAny\u001b[39m    │ \u001b[90mUnion…\u001b[39m  │ \u001b[90mInt64\u001b[39m    │\n",
       "├─────┼──────────┼─────────┼───────┼────────┼────────┼─────────┼──────────┤\n",
       "│ 1   │ line     │         │ A     │        │ E      │ 5       │ 0        │\n",
       "│ 2   │ trait1   │ 22.8    │ 14.51 │ 24.39  │ 34.65  │         │ 0        │\n",
       "│ 3   │ trait2   │ 490.912 │ 94.43 │ 554.82 │ 915.16 │         │ 0        │\n",
       "│ 4   │ trait3   │ 59.352  │ 26.24 │ 54.92  │ 94.8   │         │ 0        │\n",
       "│ 5   │ location │         │ CH    │        │ USA    │ 5       │ 0        │\n",
       "│ 6   │ year     │ 2016.6  │ 2015  │ 2017.0 │ 2018   │         │ 0        │"
      ]
     },
     "execution_count": 41,
     "metadata": {},
     "output_type": "execute_result"
    }
   ],
   "source": [
    "describe(myDF)"
   ]
  },
  {
   "cell_type": "code",
   "execution_count": 43,
   "metadata": {},
   "outputs": [
    {
     "data": {
      "text/plain": [
       "3-element Array{Union{Missing, Float64},1}:\n",
       " 14.51\n",
       " 24.96\n",
       " 24.39"
      ]
     },
     "execution_count": 43,
     "metadata": {},
     "output_type": "execute_result"
    }
   ],
   "source": [
    "myDF[1:3,:trait1]"
   ]
  },
  {
   "cell_type": "code",
   "execution_count": 45,
   "metadata": {},
   "outputs": [
    {
     "data": {
      "text/html": [
       "<table class=\"data-frame\"><thead><tr><th></th><th>line</th><th>trait1</th></tr><tr><th></th><th>String⍰</th><th>Float64⍰</th></tr></thead><tbody><tr><th>1</th><td>A</td><td>14.51</td></tr><tr><th>2</th><td>B</td><td>24.96</td></tr><tr><th>3</th><td>D</td><td>34.65</td></tr></tbody></table>"
      ],
      "text/latex": [
       "\\begin{tabular}{r|cc}\n",
       "\t& line & trait1\\\\\n",
       "\t\\hline\n",
       "\t1 & A & 14.51 \\\\\n",
       "\t2 & B & 24.96 \\\\\n",
       "\t3 & D & 34.65 \\\\\n",
       "\\end{tabular}\n"
      ],
      "text/plain": [
       "3×2 DataFrame\n",
       "│ Row │ line    │ trait1   │\n",
       "│     │ \u001b[90mString⍰\u001b[39m │ \u001b[90mFloat64⍰\u001b[39m │\n",
       "├─────┼─────────┼──────────┤\n",
       "│ 1   │ A       │ 14.51    │\n",
       "│ 2   │ B       │ 24.96    │\n",
       "│ 3   │ D       │ 34.65    │"
      ]
     },
     "execution_count": 45,
     "metadata": {},
     "output_type": "execute_result"
    }
   ],
   "source": [
    "myDF[[1, 2, 4],[:line,:trait1]]"
   ]
  },
  {
   "cell_type": "code",
   "execution_count": 47,
   "metadata": {
    "scrolled": true
   },
   "outputs": [
    {
     "data": {
      "text/plain": [
       "5-element Array{Union{Missing, Int64},1}:\n",
       " 2017\n",
       " 2016\n",
       " 2015\n",
       " 2017\n",
       " 2018"
      ]
     },
     "execution_count": 47,
     "metadata": {},
     "output_type": "execute_result"
    }
   ],
   "source": [
    "myDF[:year]"
   ]
  },
  {
   "cell_type": "code",
   "execution_count": 49,
   "metadata": {},
   "outputs": [
    {
     "data": {
      "text/plain": [
       "5-element BitArray{1}:\n",
       "  true\n",
       "  true\n",
       " false\n",
       "  true\n",
       "  true"
      ]
     },
     "execution_count": 49,
     "metadata": {},
     "output_type": "execute_result"
    }
   ],
   "source": [
    "myDF[:year] .> 2015"
   ]
  },
  {
   "cell_type": "code",
   "execution_count": 51,
   "metadata": {
    "scrolled": true
   },
   "outputs": [
    {
     "data": {
      "text/html": [
       "<table class=\"data-frame\"><thead><tr><th></th><th>line</th><th>trait1</th><th>trait2</th><th>trait3</th><th>location</th><th>year</th></tr><tr><th></th><th>String⍰</th><th>Float64⍰</th><th>Float64⍰</th><th>Float64⍰</th><th>String⍰</th><th>Int64⍰</th></tr></thead><tbody><tr><th>1</th><td>A</td><td>14.51</td><td>164.26</td><td>54.92</td><td>CH</td><td>2017</td></tr><tr><th>2</th><td>B</td><td>24.96</td><td>554.82</td><td>75.18</td><td>D</td><td>2016</td></tr><tr><th>3</th><td>D</td><td>34.65</td><td>915.16</td><td>45.62</td><td>I</td><td>2017</td></tr><tr><th>4</th><td>E</td><td>15.49</td><td>725.89</td><td>26.24</td><td>USA</td><td>2018</td></tr></tbody></table>"
      ],
      "text/latex": [
       "\\begin{tabular}{r|cccccc}\n",
       "\t& line & trait1 & trait2 & trait3 & location & year\\\\\n",
       "\t\\hline\n",
       "\t1 & A & 14.51 & 164.26 & 54.92 & CH & 2017 \\\\\n",
       "\t2 & B & 24.96 & 554.82 & 75.18 & D & 2016 \\\\\n",
       "\t3 & D & 34.65 & 915.16 & 45.62 & I & 2017 \\\\\n",
       "\t4 & E & 15.49 & 725.89 & 26.24 & USA & 2018 \\\\\n",
       "\\end{tabular}\n"
      ],
      "text/plain": [
       "4×6 DataFrame\n",
       "│ Row │ line    │ trait1   │ trait2   │ trait3   │ location │ year   │\n",
       "│     │ \u001b[90mString⍰\u001b[39m │ \u001b[90mFloat64⍰\u001b[39m │ \u001b[90mFloat64⍰\u001b[39m │ \u001b[90mFloat64⍰\u001b[39m │ \u001b[90mString⍰\u001b[39m  │ \u001b[90mInt64⍰\u001b[39m │\n",
       "├─────┼─────────┼──────────┼──────────┼──────────┼──────────┼────────┤\n",
       "│ 1   │ A       │ 14.51    │ 164.26   │ 54.92    │ CH       │ 2017   │\n",
       "│ 2   │ B       │ 24.96    │ 554.82   │ 75.18    │ D        │ 2016   │\n",
       "│ 3   │ D       │ 34.65    │ 915.16   │ 45.62    │ I        │ 2017   │\n",
       "│ 4   │ E       │ 15.49    │ 725.89   │ 26.24    │ USA      │ 2018   │"
      ]
     },
     "execution_count": 51,
     "metadata": {},
     "output_type": "execute_result"
    }
   ],
   "source": [
    "myDF[myDF[:year] .> 2015,:]"
   ]
  },
  {
   "cell_type": "code",
   "execution_count": 53,
   "metadata": {},
   "outputs": [
    {
     "name": "stdout",
     "output_type": "stream",
     "text": [
      "5×6 DataFrame\n",
      "│ Row │ line    │ trait1   │ trait2   │ trait3   │ location │ year   │\n",
      "│     │ \u001b[90mString⍰\u001b[39m │ \u001b[90mFloat64⍰\u001b[39m │ \u001b[90mFloat64⍰\u001b[39m │ \u001b[90mFloat64⍰\u001b[39m │ \u001b[90mString⍰\u001b[39m  │ \u001b[90mInt64⍰\u001b[39m │\n",
      "├─────┼─────────┼──────────┼──────────┼──────────┼──────────┼────────┤\n",
      "│ 1   │ A       │ 14.51    │ 164.26   │ 54.92    │ CH       │ 2017   │\n",
      "│ 2   │ B       │ 24.96    │ 554.82   │ 75.18    │ D        │ 2016   │\n",
      "│ 3   │ C       │ 24.39    │ 94.43    │ 94.8     │ F        │ 2015   │\n",
      "│ 4   │ D       │ 34.65    │ 915.16   │ 45.62    │ I        │ 2017   │\n",
      "│ 5   │ E       │ 15.49    │ 725.89   │ 26.24    │ USA      │ 2018   │"
     ]
    }
   ],
   "source": [
    "show(myDF)"
   ]
  },
  {
   "cell_type": "code",
   "execution_count": 55,
   "metadata": {},
   "outputs": [
    {
     "data": {
      "text/plain": [
       "6-element Array{DataType,1}:\n",
       " Array{Union{Missing, String},1} \n",
       " Array{Union{Missing, Float64},1}\n",
       " Array{Union{Missing, Float64},1}\n",
       " Array{Union{Missing, Float64},1}\n",
       " Array{Union{Missing, String},1} \n",
       " Array{Union{Missing, Int64},1}  "
      ]
     },
     "execution_count": 55,
     "metadata": {},
     "output_type": "execute_result"
    }
   ],
   "source": [
    "colwise(typeof,myDF)"
   ]
  },
  {
   "cell_type": "code",
   "execution_count": 57,
   "metadata": {},
   "outputs": [
    {
     "data": {
      "text/plain": [
       "(5, 6)"
      ]
     },
     "execution_count": 57,
     "metadata": {},
     "output_type": "execute_result"
    }
   ],
   "source": [
    "size(myDF)"
   ]
  },
  {
   "cell_type": "code",
   "execution_count": 58,
   "metadata": {},
   "outputs": [
    {
     "data": {
      "text/plain": [
       "DataFrame"
      ]
     },
     "execution_count": 58,
     "metadata": {},
     "output_type": "execute_result"
    }
   ],
   "source": [
    "typeof(myDF)"
   ]
  },
  {
   "cell_type": "code",
   "execution_count": 59,
   "metadata": {
    "scrolled": true
   },
   "outputs": [
    {
     "data": {
      "text/html": [
       "<table class=\"data-frame\"><thead><tr><th></th><th>line</th><th>trait1</th><th>trait2</th><th>trait3</th><th>location</th><th>year</th></tr><tr><th></th><th>Any</th><th>Any</th><th>Any</th><th>Any</th><th>Any</th><th>Any</th></tr></thead><tbody><tr><th>1</th><td>A</td><td>29.02</td><td>410.65</td><td>142.792</td><td>CH</td><td>2017</td></tr><tr><th>2</th><td>B</td><td>49.92</td><td>1387.05</td><td>195.468</td><td>D</td><td>2016</td></tr><tr><th>3</th><td>C</td><td>48.78</td><td>236.075</td><td>246.48</td><td>F</td><td>2015</td></tr><tr><th>4</th><td>D</td><td>69.3</td><td>2287.9</td><td>118.612</td><td>I</td><td>2017</td></tr><tr><th>5</th><td>E</td><td>30.98</td><td>1814.72</td><td>68.224</td><td>USA</td><td>2018</td></tr></tbody></table>"
      ],
      "text/latex": [
       "\\begin{tabular}{r|cccccc}\n",
       "\t& line & trait1 & trait2 & trait3 & location & year\\\\\n",
       "\t\\hline\n",
       "\t1 & A & 29.02 & 410.65 & 142.792 & CH & 2017 \\\\\n",
       "\t2 & B & 49.92 & 1387.05 & 195.468 & D & 2016 \\\\\n",
       "\t3 & C & 48.78 & 236.075 & 246.48 & F & 2015 \\\\\n",
       "\t4 & D & 69.3 & 2287.9 & 118.612 & I & 2017 \\\\\n",
       "\t5 & E & 30.98 & 1814.72 & 68.224 & USA & 2018 \\\\\n",
       "\\end{tabular}\n"
      ],
      "text/plain": [
       "5×6 DataFrame\n",
       "│ Row │ line │ trait1 │ trait2  │ trait3  │ location │ year │\n",
       "│     │ \u001b[90mAny\u001b[39m  │ \u001b[90mAny\u001b[39m    │ \u001b[90mAny\u001b[39m     │ \u001b[90mAny\u001b[39m     │ \u001b[90mAny\u001b[39m      │ \u001b[90mAny\u001b[39m  │\n",
       "├─────┼──────┼────────┼─────────┼─────────┼──────────┼──────┤\n",
       "│ 1   │ A    │ 29.02  │ 410.65  │ 142.792 │ CH       │ 2017 │\n",
       "│ 2   │ B    │ 49.92  │ 1387.05 │ 195.468 │ D        │ 2016 │\n",
       "│ 3   │ C    │ 48.78  │ 236.075 │ 246.48  │ F        │ 2015 │\n",
       "│ 4   │ D    │ 69.3   │ 2287.9  │ 118.612 │ I        │ 2017 │\n",
       "│ 5   │ E    │ 30.98  │ 1814.72 │ 68.224  │ USA      │ 2018 │"
      ]
     },
     "execution_count": 59,
     "metadata": {},
     "output_type": "execute_result"
    }
   ],
   "source": [
    "myDF2 = DataFrame([myDF[:line] myDF[:trait1]*2 myDF[:trait2]*2.5 myDF[:trait3]*2.6 myDF[:location] myDF[:year]], names(myDF))"
   ]
  },
  {
   "cell_type": "code",
   "execution_count": 60,
   "metadata": {},
   "outputs": [
    {
     "data": {
      "text/html": [
       "<table class=\"data-frame\"><thead><tr><th></th><th>line</th><th>trait1</th><th>trait2</th><th>trait3</th><th>location</th><th>year</th></tr><tr><th></th><th>Any</th><th>Any</th><th>Any</th><th>Any</th><th>Any</th><th>Any</th></tr></thead><tbody><tr><th>1</th><td>A</td><td>14.51</td><td>164.26</td><td>54.92</td><td>CH</td><td>2017</td></tr><tr><th>2</th><td>B</td><td>24.96</td><td>554.82</td><td>75.18</td><td>D</td><td>2016</td></tr><tr><th>3</th><td>C</td><td>24.39</td><td>94.43</td><td>94.8</td><td>F</td><td>2015</td></tr><tr><th>4</th><td>D</td><td>34.65</td><td>915.16</td><td>45.62</td><td>I</td><td>2017</td></tr><tr><th>5</th><td>E</td><td>15.49</td><td>725.89</td><td>26.24</td><td>USA</td><td>2018</td></tr><tr><th>6</th><td>A</td><td>29.02</td><td>410.65</td><td>142.792</td><td>CH</td><td>2017</td></tr><tr><th>7</th><td>B</td><td>49.92</td><td>1387.05</td><td>195.468</td><td>D</td><td>2016</td></tr><tr><th>8</th><td>C</td><td>48.78</td><td>236.075</td><td>246.48</td><td>F</td><td>2015</td></tr><tr><th>9</th><td>D</td><td>69.3</td><td>2287.9</td><td>118.612</td><td>I</td><td>2017</td></tr><tr><th>10</th><td>E</td><td>30.98</td><td>1814.72</td><td>68.224</td><td>USA</td><td>2018</td></tr></tbody></table>"
      ],
      "text/latex": [
       "\\begin{tabular}{r|cccccc}\n",
       "\t& line & trait1 & trait2 & trait3 & location & year\\\\\n",
       "\t\\hline\n",
       "\t1 & A & 14.51 & 164.26 & 54.92 & CH & 2017 \\\\\n",
       "\t2 & B & 24.96 & 554.82 & 75.18 & D & 2016 \\\\\n",
       "\t3 & C & 24.39 & 94.43 & 94.8 & F & 2015 \\\\\n",
       "\t4 & D & 34.65 & 915.16 & 45.62 & I & 2017 \\\\\n",
       "\t5 & E & 15.49 & 725.89 & 26.24 & USA & 2018 \\\\\n",
       "\t6 & A & 29.02 & 410.65 & 142.792 & CH & 2017 \\\\\n",
       "\t7 & B & 49.92 & 1387.05 & 195.468 & D & 2016 \\\\\n",
       "\t8 & C & 48.78 & 236.075 & 246.48 & F & 2015 \\\\\n",
       "\t9 & D & 69.3 & 2287.9 & 118.612 & I & 2017 \\\\\n",
       "\t10 & E & 30.98 & 1814.72 & 68.224 & USA & 2018 \\\\\n",
       "\\end{tabular}\n"
      ],
      "text/plain": [
       "10×6 DataFrame\n",
       "│ Row │ line │ trait1 │ trait2  │ trait3  │ location │ year │\n",
       "│     │ \u001b[90mAny\u001b[39m  │ \u001b[90mAny\u001b[39m    │ \u001b[90mAny\u001b[39m     │ \u001b[90mAny\u001b[39m     │ \u001b[90mAny\u001b[39m      │ \u001b[90mAny\u001b[39m  │\n",
       "├─────┼──────┼────────┼─────────┼─────────┼──────────┼──────┤\n",
       "│ 1   │ A    │ 14.51  │ 164.26  │ 54.92   │ CH       │ 2017 │\n",
       "│ 2   │ B    │ 24.96  │ 554.82  │ 75.18   │ D        │ 2016 │\n",
       "│ 3   │ C    │ 24.39  │ 94.43   │ 94.8    │ F        │ 2015 │\n",
       "│ 4   │ D    │ 34.65  │ 915.16  │ 45.62   │ I        │ 2017 │\n",
       "│ 5   │ E    │ 15.49  │ 725.89  │ 26.24   │ USA      │ 2018 │\n",
       "│ 6   │ A    │ 29.02  │ 410.65  │ 142.792 │ CH       │ 2017 │\n",
       "│ 7   │ B    │ 49.92  │ 1387.05 │ 195.468 │ D        │ 2016 │\n",
       "│ 8   │ C    │ 48.78  │ 236.075 │ 246.48  │ F        │ 2015 │\n",
       "│ 9   │ D    │ 69.3   │ 2287.9  │ 118.612 │ I        │ 2017 │\n",
       "│ 10  │ E    │ 30.98  │ 1814.72 │ 68.224  │ USA      │ 2018 │"
      ]
     },
     "execution_count": 60,
     "metadata": {},
     "output_type": "execute_result"
    }
   ],
   "source": [
    "vcat(myDF, myDF2)"
   ]
  },
  {
   "cell_type": "code",
   "execution_count": 61,
   "metadata": {},
   "outputs": [
    {
     "data": {
      "text/html": [
       "<table class=\"data-frame\"><thead><tr><th></th><th>line</th><th>trait1</th><th>trait2</th><th>trait3</th><th>location</th><th>year</th></tr><tr><th></th><th>Any</th><th>Any</th><th>Any</th><th>Any</th><th>Any</th><th>Any</th></tr></thead><tbody><tr><th>1</th><td>A</td><td>14.51</td><td>164.26</td><td>54.92</td><td>CH</td><td>2017</td></tr><tr><th>2</th><td>B</td><td>24.96</td><td>554.82</td><td>75.18</td><td>D</td><td>2016</td></tr><tr><th>3</th><td>C</td><td>24.39</td><td>94.43</td><td>94.8</td><td>F</td><td>2015</td></tr><tr><th>4</th><td>D</td><td>34.65</td><td>915.16</td><td>45.62</td><td>I</td><td>2017</td></tr><tr><th>5</th><td>E</td><td>15.49</td><td>725.89</td><td>26.24</td><td>USA</td><td>2018</td></tr><tr><th>6</th><td>A</td><td>29.02</td><td>410.65</td><td>142.792</td><td>CH</td><td>2017</td></tr><tr><th>7</th><td>B</td><td>49.92</td><td>1387.05</td><td>195.468</td><td>D</td><td>2016</td></tr><tr><th>8</th><td>C</td><td>48.78</td><td>236.075</td><td>246.48</td><td>F</td><td>2015</td></tr><tr><th>9</th><td>D</td><td>69.3</td><td>2287.9</td><td>118.612</td><td>I</td><td>2017</td></tr><tr><th>10</th><td>E</td><td>30.98</td><td>1814.72</td><td>68.224</td><td>USA</td><td>2018</td></tr></tbody></table>"
      ],
      "text/latex": [
       "\\begin{tabular}{r|cccccc}\n",
       "\t& line & trait1 & trait2 & trait3 & location & year\\\\\n",
       "\t\\hline\n",
       "\t1 & A & 14.51 & 164.26 & 54.92 & CH & 2017 \\\\\n",
       "\t2 & B & 24.96 & 554.82 & 75.18 & D & 2016 \\\\\n",
       "\t3 & C & 24.39 & 94.43 & 94.8 & F & 2015 \\\\\n",
       "\t4 & D & 34.65 & 915.16 & 45.62 & I & 2017 \\\\\n",
       "\t5 & E & 15.49 & 725.89 & 26.24 & USA & 2018 \\\\\n",
       "\t6 & A & 29.02 & 410.65 & 142.792 & CH & 2017 \\\\\n",
       "\t7 & B & 49.92 & 1387.05 & 195.468 & D & 2016 \\\\\n",
       "\t8 & C & 48.78 & 236.075 & 246.48 & F & 2015 \\\\\n",
       "\t9 & D & 69.3 & 2287.9 & 118.612 & I & 2017 \\\\\n",
       "\t10 & E & 30.98 & 1814.72 & 68.224 & USA & 2018 \\\\\n",
       "\\end{tabular}\n"
      ],
      "text/plain": [
       "10×6 DataFrame\n",
       "│ Row │ line │ trait1 │ trait2  │ trait3  │ location │ year │\n",
       "│     │ \u001b[90mAny\u001b[39m  │ \u001b[90mAny\u001b[39m    │ \u001b[90mAny\u001b[39m     │ \u001b[90mAny\u001b[39m     │ \u001b[90mAny\u001b[39m      │ \u001b[90mAny\u001b[39m  │\n",
       "├─────┼──────┼────────┼─────────┼─────────┼──────────┼──────┤\n",
       "│ 1   │ A    │ 14.51  │ 164.26  │ 54.92   │ CH       │ 2017 │\n",
       "│ 2   │ B    │ 24.96  │ 554.82  │ 75.18   │ D        │ 2016 │\n",
       "│ 3   │ C    │ 24.39  │ 94.43   │ 94.8    │ F        │ 2015 │\n",
       "│ 4   │ D    │ 34.65  │ 915.16  │ 45.62   │ I        │ 2017 │\n",
       "│ 5   │ E    │ 15.49  │ 725.89  │ 26.24   │ USA      │ 2018 │\n",
       "│ 6   │ A    │ 29.02  │ 410.65  │ 142.792 │ CH       │ 2017 │\n",
       "│ 7   │ B    │ 49.92  │ 1387.05 │ 195.468 │ D        │ 2016 │\n",
       "│ 8   │ C    │ 48.78  │ 236.075 │ 246.48  │ F        │ 2015 │\n",
       "│ 9   │ D    │ 69.3   │ 2287.9  │ 118.612 │ I        │ 2017 │\n",
       "│ 10  │ E    │ 30.98  │ 1814.72 │ 68.224  │ USA      │ 2018 │"
      ]
     },
     "execution_count": 61,
     "metadata": {},
     "output_type": "execute_result"
    }
   ],
   "source": [
    "[myDF\n",
    "myDF2]"
   ]
  },
  {
   "cell_type": "markdown",
   "metadata": {},
   "source": [
    " ## Summary\n",
    " - accessing header /column names of dataframe\n",
    " - concatenating data\n",
    " - selecting elements, rows, cols\n",
    " - http://juliadata.github.io/DataFrames.jl/v0.9.1/\n",
    " "
   ]
  }
 ],
 "metadata": {
  "kernelspec": {
   "display_name": "Julia 1.0.0",
   "language": "julia",
   "name": "julia-1.0"
  },
  "language_info": {
   "file_extension": ".jl",
   "mimetype": "application/julia",
   "name": "julia",
   "version": "1.0.0"
  }
 },
 "nbformat": 4,
 "nbformat_minor": 2
}
